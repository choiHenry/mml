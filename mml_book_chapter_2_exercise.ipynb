{
  "nbformat": 4,
  "nbformat_minor": 0,
  "metadata": {
    "colab": {
      "name": "mml-book-chapter-2-exercise.ipynb",
      "provenance": [],
      "collapsed_sections": []
    },
    "kernelspec": {
      "name": "python3",
      "display_name": "Python 3"
    }
  },
  "cells": [
    {
      "cell_type": "markdown",
      "metadata": {
        "id": "O6njzPdnzHN6"
      },
      "source": [
        "# 2.1\n",
        "\n",
        "## a\n",
        "1. commutative: $a*b=ab+a+b=ba+b+a=b*a$.\n",
        "\n",
        "2. associative: $a*(b*c)=a(b*c)+a+b*c=a(bc+b+c)+a+bc+b+c=abc+ab+ac+a+bc+b+c=abc+ac+bc+ab+a+b+c=(a*b)*c$\n",
        "\n",
        "3. the existence of identity: $a*0=a$\n",
        "\n",
        "4. the existence of inverse element for each element: $a*b=ab+a+b=0$, $b(a+1)=-a$, $b= \\frac{-a}{a+1}$. The division holds $a\\in \\mathbb{R} - \\{-1\\}$\n",
        "\n",
        "## b\n",
        "\n",
        "$ 3*x*x=(3x+3+x)*x=3x^2+3x+x^2+3x+3+x+x=4x^2+8x+3=15, x^2+2x-3=0, (x+3)(x-1) = 0 $`\n",
        "\n",
        "\n",
        "\n",
        "  "
      ]
    },
    {
      "cell_type": "markdown",
      "metadata": {
        "id": "LcMJnV9E3XRN"
      },
      "source": [
        "# 2.2\n",
        "\n",
        "## a\n",
        "\n",
        "1. commutative: $\\bar{a} \\oplus (\\bar{b} \\oplus \\bar{c}) = \\bar{a} \\oplus \\overline{b+c}= \\overline{a+(b+c)}=\\overline{(a+b)+c}=\\overline{a+b}+\\bar{c}=(\\bar{a}\\oplus\\bar{b})\\oplus\\bar{c}$\n",
        "\n",
        "2. the existence of idenetity: $\\bar{a} \\oplus \\bar{0} = \\overline{a+0}=\\overline{a}$\n",
        "\n",
        "3. the exsistence of inverse element for each element: $\\overline{a} \\oplus \\overline{-a} = \\bar{0}$\n",
        "\n",
        "4. Abelian. Trivial.\n",
        "\n",
        "## b\n",
        "\n",
        "| $\\mathbb{z} - \\bar{0}$ | $\\bar{1}$  | $\\bar{2}$  | $\\bar{3}$   | $\\bar{4}$   |\n",
        "| --- | --- | --- | --- | --- |\n",
        "| $\\bar{1}$ | $\\bar{1}$ | $\\bar{2}$ | $\\bar{3}$ | $\\bar{4}$ |\n",
        "| $\\bar{2}$ | $\\bar{2}$ | $\\bar{4}$ | $\\bar{1}$ | $\\bar{3}$ |\n",
        "| $\\bar{3}$ | $\\bar{3}$ | $\\bar{1}$ | $\\bar{4}$ | $\\bar{2}$ |\n",
        "| $\\bar{4}$ | $\\bar{4}$ | $\\bar{3}$ | $\\bar{2}$ | $\\bar{1}$ |\n",
        "\n",
        "Considering the table above $(\\mathbb{z}-\\bar{0}, \\otimes )$ is a Abelian group.\n",
        "\n",
        "## C\n",
        "\n",
        "$\\bar{2}\\otimes\\bar{4}=\\bar{0}$\n",
        "\n",
        "## d(Bézout's Identity)\n",
        "\n",
        "Just a brief outline. \n",
        "1. If ($\\mathbb{z}_n - \\bar{0}, \\otimes)$ is a group, then $n \\in \\mathbb{N} - {0}$ is a prime.\n",
        "\n",
        "For any $a\\in \\mathbb{z}_n - \\bar{0}$, there exists $u \\in \\mathbb{z}_n - \\bar{0} $ such that $au = \\bar{1}$.\n",
        "\n",
        "2. If $n \\in \\mathbb{N} - {0}$ is a prime, then ($\\mathbb{z}_n - \\bar{0}, \\otimes)$ is a group.\n",
        "\n",
        "Since $n$ is a prime for any integer a, there exist $u$ and $v$ such that $au+nv=1$. Divide modulo $n$."
      ]
    },
    {
      "cell_type": "markdown",
      "metadata": {
        "id": "0TMhKLlTACih"
      },
      "source": [
        "# 2.3"
      ]
    },
    {
      "cell_type": "markdown",
      "metadata": {
        "id": "WAoe_UxSAEc5"
      },
      "source": [
        "## closed under operation\n",
        "$\\begin{bmatrix}\n",
        "1 & x & y \\\\\n",
        "0 & 1 & z \\\\\n",
        "0 & 0 & 1 \\\\\n",
        "\\end{bmatrix} \\begin{bmatrix}\n",
        "1 & a & b \\\\\n",
        "0 & 1 & c \\\\\n",
        "0 & 0 & 1 \\\\\n",
        "\\end{bmatrix} = \\begin{bmatrix}\n",
        "1 & x+a & y + b + cx \\\\\n",
        "0 & 1 & z + c \\\\\n",
        "0 & 0 & 1 \\\\\n",
        "\\end{bmatrix}$"
      ]
    },
    {
      "cell_type": "markdown",
      "metadata": {
        "id": "uWS6AGwpA5X0"
      },
      "source": [
        "## the existence of inverse element for each member\n",
        "$a = -x \\\\\n",
        "c = -z  \\\\\n",
        "b = -y+zx $\n",
        "\n"
      ]
    },
    {
      "cell_type": "markdown",
      "metadata": {
        "id": "pVb-bJa6I3cz"
      },
      "source": [
        "# 2.4"
      ]
    },
    {
      "cell_type": "code",
      "metadata": {
        "id": "SzU4tseII9q3"
      },
      "source": [
        "import numpy as np\n",
        "from sympy import *\n",
        "\n",
        "\n",
        "def get_m0(n: int):\n",
        "    \"\"\"\n",
        "    get a fundamental matrix in statistics, \"centering matrix\" that is used to transform data to\n",
        "    deviations from their mean\n",
        "    :param n: length of data\n",
        "    :return: $M_0$\n",
        "    \"\"\"\n",
        "    return (-1 / n) * np.ones((n, n)) + np.eye(n)\n",
        "\n",
        "\n",
        "def sum(array):\n",
        "    n = array.shape[0]\n",
        "    i = np.ones(n)\n",
        "\n",
        "    return np.dot(i, array)\n",
        "\n",
        "def mean(array):\n",
        "    import numpy as np\n",
        "    n = array.shape[0]\n",
        "    i = np.ones(n)\n",
        "    return (1 / n) * np.dot(i, array)\n",
        "\n",
        "\n",
        "def mean_deviation(array):\n",
        "    n = array.shape[0]\n",
        "    m0 = get_m0(n)\n",
        "    return np.matmul(m0, array)\n",
        "\n",
        "\n",
        "def sum_of_squares(array):\n",
        "    return np.sum(array ** 2)\n",
        "\n",
        "\n",
        "def sum_of_squared_deviation(array):\n",
        "    return sum_of_squares(mean_deviation(array))\n",
        "\n",
        "\n",
        "def sum_of_squres_matrix(a, b):\n",
        "    z = np.c_[a, b]\n",
        "    return z.T.matmul(get_m0(z.shape[0])).matmul(z)\n",
        "\n",
        "\n",
        "def rref(matrix):\n",
        "    m = Matrix(matrix)\n",
        "    return np.array(m.rref()[0].tolist()).astype(np.float64)\n",
        "\n",
        "def rank(matrix):\n",
        "    return np.linalg.matrix_ranK(matrix)\n",
        "\n",
        "\n",
        "class LinearRegression:\n",
        "\n",
        "    def __init__(self):\n",
        "        self._params_ = None\n",
        "        self._intercept_ = None\n",
        "        self._coef_ = None\n",
        "\n",
        "    @property\n",
        "    def params_(self):\n",
        "        return self._params_\n",
        "\n",
        "    @params_.setter\n",
        "    def params_(self, params):\n",
        "        import numpy as np\n",
        "        self._params_ = np.array(params)\n",
        "\n",
        "    @property\n",
        "    def intercept_(self):\n",
        "        return self._intercept_\n",
        "\n",
        "    @intercept_.setter\n",
        "    def intercept_(self, intercept):\n",
        "        import numpy as np\n",
        "        self._intercept_ = np.array(intercept)\n",
        "\n",
        "    @property\n",
        "    def coef_(self):\n",
        "        return self._coef_\n",
        "\n",
        "    @coef_.setter\n",
        "    def coef_(self, coef):\n",
        "        import numpy as np\n",
        "        self._coef_ = np.array(coef)\n",
        "\n",
        "    def fit(self, X, y):\n",
        "        n = X.shape[0]\n",
        "        ones = np.ones(n)\n",
        "        feat = np.c_[X, ones]\n",
        "        inv = np.linalg.inv(np.matmul(feat.T, feat))\n",
        "        self.params_ = np.matmul(np.matmul(inv, feat.T), y)\n",
        "        self.coef_ = self.params_[0]\n",
        "        self.intercept_ = self.params_[1]\n",
        "        print(self.params_)\n",
        "\n",
        "    def predict(self, x):\n",
        "        n = x.shape[0]\n",
        "        feat = np.c_[x, np.ones(n)]\n",
        "        return np.matmul(feat, self.params_)"
      ],
      "execution_count": null,
      "outputs": []
    },
    {
      "cell_type": "markdown",
      "metadata": {
        "id": "wgWKC4CBI7gX"
      },
      "source": [
        "# a."
      ]
    },
    {
      "cell_type": "markdown",
      "metadata": {
        "id": "GaFALQr_JAUe"
      },
      "source": [
        "## b"
      ]
    },
    {
      "cell_type": "code",
      "metadata": {
        "colab": {
          "base_uri": "https://localhost:8080/"
        },
        "id": "6vzPfnQ-JNBD",
        "outputId": "a3102bde-8d1d-4b64-9d31-6a71d02d5624"
      },
      "source": [
        "np.array([[1, 2, 3], [4, 5, 6], [7, 8 ,9]]) @ np.array([[1, 1, 0], [0, 1, 1], [1, 0, 1]])"
      ],
      "execution_count": null,
      "outputs": [
        {
          "output_type": "execute_result",
          "data": {
            "text/plain": [
              "array([[ 4,  3,  5],\n",
              "       [10,  9, 11],\n",
              "       [16, 15, 17]])"
            ]
          },
          "metadata": {
            "tags": []
          },
          "execution_count": 3
        }
      ]
    },
    {
      "cell_type": "markdown",
      "metadata": {
        "id": "Ddej44YaJYOd"
      },
      "source": [
        "## c"
      ]
    },
    {
      "cell_type": "code",
      "metadata": {
        "colab": {
          "base_uri": "https://localhost:8080/"
        },
        "id": "MJReZYagJjxI",
        "outputId": "08a2d655-6c53-4253-ced9-a81b79abf4ac"
      },
      "source": [
        "np.array([[1, 1, 0], [0, 1, 1], [1, 0, 1]]) @ np.array([[1, 2, 3], [4, 5, 6], [7, 8 ,9]])"
      ],
      "execution_count": null,
      "outputs": [
        {
          "output_type": "execute_result",
          "data": {
            "text/plain": [
              "array([[ 5,  7,  9],\n",
              "       [11, 13, 15],\n",
              "       [ 8, 10, 12]])"
            ]
          },
          "metadata": {
            "tags": []
          },
          "execution_count": 4
        }
      ]
    },
    {
      "cell_type": "markdown",
      "metadata": {
        "id": "-6o-JJcmJoQY"
      },
      "source": [
        "## d"
      ]
    },
    {
      "cell_type": "code",
      "metadata": {
        "colab": {
          "base_uri": "https://localhost:8080/"
        },
        "id": "LCGMMJomJp9U",
        "outputId": "46b8d305-53b5-4e03-f9ec-5bf6fbc4f89d"
      },
      "source": [
        "np.array([[1, 2, 1, 2], [4, 1, -1, -4]]) @ np.array([[0, 3], [1, -1], [2, 1], [5, 2]])"
      ],
      "execution_count": null,
      "outputs": [
        {
          "output_type": "execute_result",
          "data": {
            "text/plain": [
              "array([[ 14,   6],\n",
              "       [-21,   2]])"
            ]
          },
          "metadata": {
            "tags": []
          },
          "execution_count": 5
        }
      ]
    },
    {
      "cell_type": "markdown",
      "metadata": {
        "id": "G3otRfkPJ0yP"
      },
      "source": [
        "## e"
      ]
    },
    {
      "cell_type": "markdown",
      "metadata": {
        "id": "yrE1IVJXJ3Op"
      },
      "source": [
        "# 2.5"
      ]
    },
    {
      "cell_type": "markdown",
      "metadata": {
        "id": "jDZsI3qcKTY4"
      },
      "source": [
        "## a\n",
        "no solutions"
      ]
    },
    {
      "cell_type": "code",
      "metadata": {
        "colab": {
          "base_uri": "https://localhost:8080/"
        },
        "id": "5ideQ5_qJ4Sw",
        "outputId": "3e4252ac-248d-47c0-f1bc-8be5dee047b4"
      },
      "source": [
        "rref([[1, 1, -1, -1, 1], [2, 5, -7, -5, -2], [2, -1, 1, 3, 4], [5, 2, -4, 2, 6]])"
      ],
      "execution_count": null,
      "outputs": [
        {
          "output_type": "execute_result",
          "data": {
            "text/plain": [
              "array([[ 1.        ,  0.        ,  0.        ,  0.66666667,  0.        ],\n",
              "       [ 0.        ,  1.        ,  0.        , -2.66666667,  0.        ],\n",
              "       [ 0.        ,  0.        ,  1.        , -1.        ,  0.        ],\n",
              "       [ 0.        ,  0.        ,  0.        ,  0.        ,  1.        ]])"
            ]
          },
          "metadata": {
            "tags": []
          },
          "execution_count": 6
        }
      ]
    },
    {
      "cell_type": "markdown",
      "metadata": {
        "id": "QgXJJRIkKLI8"
      },
      "source": [
        "## b"
      ]
    },
    {
      "cell_type": "code",
      "metadata": {
        "colab": {
          "base_uri": "https://localhost:8080/"
        },
        "id": "ss2I1vzYKXHc",
        "outputId": "af43c1cb-b9ea-42a5-d092-67c0be5eaa56"
      },
      "source": [
        "rref([[1, -1, 0, 0, 1, 3], [1, 1, 0, -3, 0, 6], [2, -1, 0, 1, -1, 5], [-1, 2, 0, -2, -1, -1]])"
      ],
      "execution_count": null,
      "outputs": [
        {
          "output_type": "execute_result",
          "data": {
            "text/plain": [
              "array([[ 1.,  0.,  0.,  0., -1.,  3.],\n",
              "       [ 0.,  1.,  0.,  0., -2.,  0.],\n",
              "       [ 0.,  0.,  0.,  1., -1., -1.],\n",
              "       [ 0.,  0.,  0.,  0.,  0.,  0.]])"
            ]
          },
          "metadata": {
            "tags": []
          },
          "execution_count": 7
        }
      ]
    },
    {
      "cell_type": "markdown",
      "metadata": {
        "id": "Upq8mqfBKiuW"
      },
      "source": [
        "$\\{\n",
        "\\begin{bmatrix}\n",
        "3 \\\\\n",
        "0 \\\\\n",
        "0 \\\\\n",
        "-1 \\\\\n",
        "0 \\\\\n",
        "\\end{bmatrix}\n",
        "+\n",
        "\\begin{bmatrix}\n",
        "-1 \\\\\n",
        "-1 \\\\\n",
        "-1 \\\\\n",
        "-1 \\\\\n",
        "-1 \\\\\n",
        "\\end{bmatrix}x_3\n",
        "+\\begin{bmatrix}\n",
        "-1 \\\\\n",
        "-2 \\\\\n",
        "-1 \\\\\n",
        "0 \\\\\n",
        "-1 \\\\\n",
        "\\end{bmatrix}x_5 : x_1, x_5 \\in \\mathbb{F}\n",
        "\\}$"
      ]
    },
    {
      "cell_type": "markdown",
      "metadata": {
        "id": "cs2pknEYMlcZ"
      },
      "source": [
        "# 6"
      ]
    },
    {
      "cell_type": "markdown",
      "metadata": {
        "id": "4BFRLKIpMoFH"
      },
      "source": [
        "$\\{\n",
        "\\begin{bmatrix}\n",
        "-1 \\\\\n",
        "-1 \\\\\n",
        "-1 \\\\\n",
        "-1 \\\\\n",
        "-1 \\\\\n",
        "-1 \\\\\n",
        "\\end{bmatrix}x_1\n",
        "+\n",
        "\\begin{bmatrix}\n",
        "0 \\\\\n",
        "-1 \\\\\n",
        "0 \\\\\n",
        "-1 \\\\\n",
        "1 \\\\\n",
        "1 \\\\\n",
        "\\end{bmatrix}x_2\n",
        "+\\begin{bmatrix}\n",
        "-1 \\\\\n",
        "-1 \\\\\n",
        "-1 \\\\\n",
        "-1 \\\\\n",
        "-1 \\\\\n",
        "-1 \\\\\n",
        "\\end{bmatrix}x_3\n",
        "+\\begin{bmatrix}\n",
        " \\\\\n",
        " \\\\\n",
        " \\\\\n",
        "-3 \\\\\n",
        " \\\\\n",
        " \\\\\n",
        "\\end{bmatrix}\n",
        "+\\begin{bmatrix}\n",
        " \\\\\n",
        " \\\\\n",
        " \\\\\n",
        " \\\\\n",
        "2 \\\\\n",
        " \\\\\n",
        "\\end{bmatrix}\n",
        "+\\begin{bmatrix}\n",
        " \\\\\n",
        " \\\\\n",
        " \\\\\n",
        " \\\\\n",
        " \\\\\n",
        "1 \\\\\n",
        "\\end{bmatrix} : x_1, x_2, x_3 \\in \\mathbb{F}\n",
        "\\}$"
      ]
    },
    {
      "cell_type": "markdown",
      "metadata": {
        "id": "MOLkum93OC-M"
      },
      "source": [
        "# 2.7"
      ]
    },
    {
      "cell_type": "code",
      "metadata": {
        "colab": {
          "base_uri": "https://localhost:8080/"
        },
        "id": "EPvlB-sxOT_0",
        "outputId": "c8015a97-203d-4521-c3d6-82109a7acf85"
      },
      "source": [
        "rref([[-6, 4, 3], [6, -12, 9], [0, 8, -12]])"
      ],
      "execution_count": null,
      "outputs": [
        {
          "output_type": "execute_result",
          "data": {
            "text/plain": [
              "array([[ 1. ,  0. , -1.5],\n",
              "       [ 0. ,  1. , -1.5],\n",
              "       [ 0. ,  0. ,  0. ]])"
            ]
          },
          "metadata": {
            "tags": []
          },
          "execution_count": 8
        }
      ]
    },
    {
      "cell_type": "markdown",
      "metadata": {
        "id": "6rbpx6ksOgoq"
      },
      "source": [
        "$\\begin{bmatrix}\n",
        "-1.5 \\\\\n",
        "-1.5 \\\\\n",
        "-1 \\\\\n",
        "\\end{bmatrix}x_3$, with $-4x_3 = 1$, which implies\n",
        "\n",
        "$\\begin{bmatrix}\n",
        "3/8 \\\\\n",
        "3/8 \\\\\n",
        "4/1 \\\\\n",
        "\\end{bmatrix}$"
      ]
    },
    {
      "cell_type": "markdown",
      "metadata": {
        "id": "ifVny86mPtz_"
      },
      "source": [
        "# 2.8"
      ]
    },
    {
      "cell_type": "code",
      "metadata": {
        "id": "T52k_kcpPr6S"
      },
      "source": [
        "def det(matrix):\n",
        "    return np.linalg.det(matrix)"
      ],
      "execution_count": null,
      "outputs": []
    },
    {
      "cell_type": "markdown",
      "metadata": {
        "id": "b_-rPiJ1Ps5h"
      },
      "source": [
        "## a"
      ]
    },
    {
      "cell_type": "code",
      "metadata": {
        "colab": {
          "base_uri": "https://localhost:8080/"
        },
        "id": "esHgnKwWP1nX",
        "outputId": "dbd5c276-dd38-4656-a82b-d946145fe09f"
      },
      "source": [
        "det([[2, 3, 4], [3, 4, 5], [4, 5, 6]])"
      ],
      "execution_count": null,
      "outputs": [
        {
          "output_type": "execute_result",
          "data": {
            "text/plain": [
              "0.0"
            ]
          },
          "metadata": {
            "tags": []
          },
          "execution_count": 10
        }
      ]
    },
    {
      "cell_type": "markdown",
      "metadata": {
        "id": "vAS1F3ZwPNR6"
      },
      "source": [
        "## b"
      ]
    },
    {
      "cell_type": "code",
      "metadata": {
        "colab": {
          "base_uri": "https://localhost:8080/"
        },
        "id": "kc_3TjJEP7O7",
        "outputId": "095a9f49-17c8-437d-f09f-56ed0f11f4f3"
      },
      "source": [
        "det([[1, 0, 1, 0,], [0, 1, 1, 0], [1, 1, 0, 1], [1, 1, 1, 0]])"
      ],
      "execution_count": null,
      "outputs": [
        {
          "output_type": "execute_result",
          "data": {
            "text/plain": [
              "1.0"
            ]
          },
          "metadata": {
            "tags": []
          },
          "execution_count": 11
        }
      ]
    },
    {
      "cell_type": "code",
      "metadata": {
        "id": "fmcCQ5R5QBO-"
      },
      "source": [
        "def inv(matrix):\n",
        "    return np.linalg.inv(matrix)"
      ],
      "execution_count": null,
      "outputs": []
    },
    {
      "cell_type": "code",
      "metadata": {
        "colab": {
          "base_uri": "https://localhost:8080/"
        },
        "id": "75h5OoGKQI1M",
        "outputId": "0a758ca5-9a5f-4302-db7a-49f6fc460c89"
      },
      "source": [
        "inv([[1, 0, 1, 0,], [0, 1, 1, 0], [1, 1, 0, 1], [1, 1, 1, 0]])"
      ],
      "execution_count": null,
      "outputs": [
        {
          "output_type": "execute_result",
          "data": {
            "text/plain": [
              "array([[ 0., -1.,  0.,  1.],\n",
              "       [-1.,  0.,  0.,  1.],\n",
              "       [ 1.,  1., -0., -1.],\n",
              "       [ 1.,  1.,  1., -2.]])"
            ]
          },
          "metadata": {
            "tags": []
          },
          "execution_count": 13
        }
      ]
    },
    {
      "cell_type": "markdown",
      "metadata": {
        "id": "VwRJNtxwQK6h"
      },
      "source": [
        "# 2.9"
      ]
    },
    {
      "cell_type": "markdown",
      "metadata": {
        "id": "WNmbZYqKQh03"
      },
      "source": [
        "b"
      ]
    },
    {
      "cell_type": "markdown",
      "metadata": {
        "id": "2dD05oQyQuLp"
      },
      "source": [
        "# 2.10"
      ]
    },
    {
      "cell_type": "markdown",
      "metadata": {
        "id": "3DLKVcdzQx89"
      },
      "source": [
        "## a"
      ]
    },
    {
      "cell_type": "code",
      "metadata": {
        "colab": {
          "base_uri": "https://localhost:8080/"
        },
        "id": "v9NvLAMqQ1vN",
        "outputId": "b6ee5450-aa30-4aea-87df-c6a45ccf708d"
      },
      "source": [
        "rref([[2, 1, 3,], [-1, 1, -3], [3, -2, 8]])"
      ],
      "execution_count": null,
      "outputs": [
        {
          "output_type": "execute_result",
          "data": {
            "text/plain": [
              "array([[ 1.,  0.,  2.],\n",
              "       [ 0.,  1., -1.],\n",
              "       [ 0.,  0.,  0.]])"
            ]
          },
          "metadata": {
            "tags": []
          },
          "execution_count": 14
        }
      ]
    },
    {
      "cell_type": "markdown",
      "metadata": {
        "id": "EIJCzMSkQ7Kp"
      },
      "source": [
        "## b"
      ]
    },
    {
      "cell_type": "code",
      "metadata": {
        "colab": {
          "base_uri": "https://localhost:8080/"
        },
        "id": "oeqCYpn1Q8rg",
        "outputId": "e8406e9e-987a-46e8-ae00-206e5dd42b78"
      },
      "source": [
        "rref([[1, 1, 1], [2, 1, 0], [1, 0, 0], [0, 1, 1], [0, 1, 1]])"
      ],
      "execution_count": null,
      "outputs": [
        {
          "output_type": "execute_result",
          "data": {
            "text/plain": [
              "array([[1., 0., 0.],\n",
              "       [0., 1., 0.],\n",
              "       [0., 0., 1.],\n",
              "       [0., 0., 0.],\n",
              "       [0., 0., 0.]])"
            ]
          },
          "metadata": {
            "tags": []
          },
          "execution_count": 15
        }
      ]
    },
    {
      "cell_type": "markdown",
      "metadata": {
        "id": "qSLgQt9URD9K"
      },
      "source": [
        "Linearly independent."
      ]
    },
    {
      "cell_type": "markdown",
      "metadata": {
        "id": "m_qOtzBJRJUe"
      },
      "source": [
        "# 2.11"
      ]
    },
    {
      "cell_type": "code",
      "metadata": {
        "colab": {
          "base_uri": "https://localhost:8080/"
        },
        "id": "7sGY-cOWRSTk",
        "outputId": "fcdda3a7-75af-4a13-ff13-927e978c5022"
      },
      "source": [
        "rref([[1, 1, 2, 1], [1, 2, -1, -2], [1, 3, 1, 5]])"
      ],
      "execution_count": null,
      "outputs": [
        {
          "output_type": "execute_result",
          "data": {
            "text/plain": [
              "array([[ 1.,  0.,  0., -6.],\n",
              "       [ 0.,  1.,  0.,  3.],\n",
              "       [ 0.,  0.,  1.,  2.]])"
            ]
          },
          "metadata": {
            "tags": []
          },
          "execution_count": 16
        }
      ]
    },
    {
      "cell_type": "markdown",
      "metadata": {
        "id": "_Q1Gcev2RKlG"
      },
      "source": [
        "# 2.12"
      ]
    },
    {
      "cell_type": "code",
      "metadata": {
        "colab": {
          "base_uri": "https://localhost:8080/"
        },
        "id": "UGfRpBESR_YE",
        "outputId": "e1541646-39af-4e02-b01c-50b512cdd872"
      },
      "source": [
        "rref([[1, 2, -1, -1, 2, -3], [1, -1, 1, -2, -2, 6], [-3, 0, -1, 2, 0, -2], [1, -1, 1, 1, 0, -1]])"
      ],
      "execution_count": null,
      "outputs": [
        {
          "output_type": "execute_result",
          "data": {
            "text/plain": [
              "array([[ 1.        ,  0.        ,  0.33333333,  0.        ,  0.44444444,\n",
              "        -0.88888889],\n",
              "       [ 0.        ,  1.        , -0.66666667,  0.        ,  1.11111111,\n",
              "        -2.22222222],\n",
              "       [ 0.        ,  0.        ,  0.        ,  1.        ,  0.66666667,\n",
              "        -2.33333333],\n",
              "       [ 0.        ,  0.        ,  0.        ,  0.        ,  0.        ,\n",
              "         0.        ]])"
            ]
          },
          "metadata": {
            "tags": []
          },
          "execution_count": 17
        }
      ]
    },
    {
      "cell_type": "markdown",
      "metadata": {
        "id": "MISHDx_gSLPy"
      },
      "source": [
        "$\\begin{bmatrix}\n",
        "1 \\\\\n",
        "1 \\\\\n",
        "-3 \\\\\n",
        "1 \\\\\n",
        "\\end{bmatrix},\n",
        "\\begin{bmatrix}\n",
        "2 \\\\\n",
        "1- \\\\\n",
        "0 \\\\\n",
        "-1 \\\\\n",
        "\\end{bmatrix},\n",
        "\\begin{bmatrix},\n",
        "1 \\\\\n",
        "-2 \\\\\n",
        "2 \\\\\n",
        "1 \\\\\n",
        "\\end{bmatrix}$"
      ]
    },
    {
      "cell_type": "markdown",
      "metadata": {
        "id": "JSnazyd4Smtw"
      },
      "source": [
        "# 2.13"
      ]
    },
    {
      "cell_type": "code",
      "metadata": {
        "id": "QohDhL6nSwlQ"
      },
      "source": [
        "A1 = np.array([[1, 0, 1],\n",
        "                [1, -2, -1],\n",
        "                [2, 1, 3],\n",
        "                [1, 0 ,1]])\n",
        "A2 = np.array([[3, -3, 0],\n",
        "               [1, 2, 3],\n",
        "               [7, -5, 2], \n",
        "               [3, -1, 2]])"
      ],
      "execution_count": null,
      "outputs": []
    },
    {
      "cell_type": "code",
      "metadata": {
        "colab": {
          "base_uri": "https://localhost:8080/"
        },
        "id": "jB0Q2WR5csNa",
        "outputId": "60f007ac-d64f-4676-ef98-5528cc28c44a"
      },
      "source": [
        "rref(A1)"
      ],
      "execution_count": null,
      "outputs": [
        {
          "output_type": "execute_result",
          "data": {
            "text/plain": [
              "array([[1., 0., 1.],\n",
              "       [0., 1., 1.],\n",
              "       [0., 0., 0.],\n",
              "       [0., 0., 0.]])"
            ]
          },
          "metadata": {
            "tags": []
          },
          "execution_count": 19
        }
      ]
    },
    {
      "cell_type": "code",
      "metadata": {
        "colab": {
          "base_uri": "https://localhost:8080/"
        },
        "id": "Yvdicinrcx7O",
        "outputId": "29d87fb6-e86a-405f-de6f-d32979a00458"
      },
      "source": [
        "rref(A2)"
      ],
      "execution_count": null,
      "outputs": [
        {
          "output_type": "execute_result",
          "data": {
            "text/plain": [
              "array([[1., 0., 1.],\n",
              "       [0., 1., 1.],\n",
              "       [0., 0., 0.],\n",
              "       [0., 0., 0.]])"
            ]
          },
          "metadata": {
            "tags": []
          },
          "execution_count": 20
        }
      ]
    },
    {
      "cell_type": "markdown",
      "metadata": {
        "id": "XnNe96Kccy4y"
      },
      "source": [
        "$U_1 = U_2 = \\mbox{span}(\\begin{bmatrix} 1 \\\\ 1 \\\\ -1 \\\\ 0 \\end{bmatrix})$\n"
      ]
    },
    {
      "cell_type": "markdown",
      "metadata": {
        "id": "o6-DEW_adNkp"
      },
      "source": [
        "# 2.15"
      ]
    },
    {
      "cell_type": "markdown",
      "metadata": {
        "id": "g5YcgC7pdSBC"
      },
      "source": [
        "## a."
      ]
    },
    {
      "cell_type": "markdown",
      "metadata": {
        "id": "WBKqJ6wado7l"
      },
      "source": [
        "## b\n",
        "$ x+y-z = 0 \\\\ x + y - z = a+3b = 0 \\\\ a = -3b$\n",
        "$ (x, y, z) = (-4b, -2b, -6b) = (2, 1, 3)b$"
      ]
    },
    {
      "cell_type": "markdown",
      "metadata": {
        "id": "fJf6mRYPejIV"
      },
      "source": [
        "## c"
      ]
    },
    {
      "cell_type": "markdown",
      "metadata": {
        "id": "WicVjg9Dej4s"
      },
      "source": [
        "$F = \\mbox{span}(\\begin{bmatrix} 1 \\\\ -1 \\\\ 0\\end{bmatrix}, \\begin{bmatrix} -1 \\\\ 0 \\\\ -1\\end{bmatrix})$"
      ]
    },
    {
      "cell_type": "markdown",
      "metadata": {
        "id": "9EtdpxCXfcYC"
      },
      "source": [
        "$G = \\mbox{span}(\\begin{bmatrix} 1 \\\\ 1 \\\\ 1\\end{bmatrix}, \\begin{bmatrix} -1 \\\\ 1 \\\\ -3\\end{bmatrix})$"
      ]
    },
    {
      "cell_type": "code",
      "metadata": {
        "colab": {
          "base_uri": "https://localhost:8080/"
        },
        "id": "TWMYQ4lQfj1V",
        "outputId": "2dc12c53-98d7-4488-c8da-fc631329d51d"
      },
      "source": [
        "rref([[1, -1, -1, 1], [-1, 0, -1, -1], [0, -1, -1, 3]])"
      ],
      "execution_count": null,
      "outputs": [
        {
          "output_type": "execute_result",
          "data": {
            "text/plain": [
              "array([[ 1.,  0.,  0., -2.],\n",
              "       [ 0.,  1.,  0., -6.],\n",
              "       [ 0.,  0.,  1.,  3.]])"
            ]
          },
          "metadata": {
            "tags": []
          },
          "execution_count": 29
        }
      ]
    },
    {
      "cell_type": "markdown",
      "metadata": {
        "id": "Jw2LQQm4fqbG"
      },
      "source": [
        "$\\begin{bmatrix} 3 \\\\ 3 \\\\ 3\\end{bmatrix} + \\begin{bmatrix} 1 \\\\ -1 \\\\ 3\\end{bmatrix} = \\begin{bmatrix} 4 \\\\ 2 \\\\ 6 \\end{bmatrix}$"
      ]
    },
    {
      "cell_type": "markdown",
      "metadata": {
        "id": "AknLH4O0i35n"
      },
      "source": [
        "# 2.16"
      ]
    },
    {
      "cell_type": "markdown",
      "metadata": {
        "id": "ebnj-RRXkrM2"
      },
      "source": [
        "They are all linear mappings except for c."
      ]
    },
    {
      "cell_type": "markdown",
      "metadata": {
        "id": "WwgiajcCkuay"
      },
      "source": [
        "## 2.18"
      ]
    },
    {
      "cell_type": "markdown",
      "metadata": {
        "id": "9pziB_RLk3f-"
      },
      "source": [
        "# 2.19"
      ]
    },
    {
      "cell_type": "markdown",
      "metadata": {
        "id": "h3X6NLOoldV_"
      },
      "source": [
        "## a"
      ]
    },
    {
      "cell_type": "code",
      "metadata": {
        "colab": {
          "base_uri": "https://localhost:8080/"
        },
        "id": "RuRn6bNslDsT",
        "outputId": "052c34b3-6f78-4e38-d633-94d07a62c9fe"
      },
      "source": [
        "rref([[1, 1, 0], [1, -1, 0], [1, 1, 1]])"
      ],
      "execution_count": null,
      "outputs": [
        {
          "output_type": "execute_result",
          "data": {
            "text/plain": [
              "array([[1., 0., 0.],\n",
              "       [0., 1., 0.],\n",
              "       [0., 0., 1.]])"
            ]
          },
          "metadata": {
            "tags": []
          },
          "execution_count": 33
        }
      ]
    },
    {
      "cell_type": "markdown",
      "metadata": {
        "id": "PgJyS1M2lC02"
      },
      "source": [
        "$\\mbox{ker}{\\Phi} = {0}, \\mbox{Im}\\Phi = \\mathbb{R}^3$\n",
        "\n"
      ]
    },
    {
      "cell_type": "markdown",
      "metadata": {
        "id": "zHJfQITTlcPg"
      },
      "source": [
        "## b"
      ]
    },
    {
      "cell_type": "code",
      "metadata": {
        "id": "U3hsizffl1zC"
      },
      "source": [
        "tf = np.array([[1, 1, 1], [1, 2, 0], [1, 1, 0]])"
      ],
      "execution_count": null,
      "outputs": []
    },
    {
      "cell_type": "code",
      "metadata": {
        "colab": {
          "base_uri": "https://localhost:8080/"
        },
        "id": "DGJAXBKjl7BJ",
        "outputId": "34ccf6e7-1f34-4458-bcb6-f07361dd9ff5"
      },
      "source": [
        "inv(tf) @ np.array([[1, 1, 0], [1, -1, 0], [1, 1, 1]]) @ tf"
      ],
      "execution_count": null,
      "outputs": [
        {
          "output_type": "execute_result",
          "data": {
            "text/plain": [
              "array([[ 6.,  9.,  1.],\n",
              "       [-3., -5.,  0.],\n",
              "       [-1., -1.,  0.]])"
            ]
          },
          "metadata": {
            "tags": []
          },
          "execution_count": 35
        }
      ]
    },
    {
      "cell_type": "markdown",
      "metadata": {
        "id": "3jOBGif_m2Ml"
      },
      "source": [
        "$\\begin{bmatrix} 2 & -1 \\\\ 1 & -1 \\end{bmatrix}\\begin{bmatrix} x \\\\ y \\end{bmatrix} = \\begin{bmatrix} 2 & 1 \\\\ -2 & 1 \\end{bmatrix}\\begin{bmatrix} a \\\\ b \\end{bmatrix}$"
      ]
    },
    {
      "cell_type": "code",
      "metadata": {
        "colab": {
          "base_uri": "https://localhost:8080/"
        },
        "id": "SN9dnKnPqSbf",
        "outputId": "895eb5ad-11d0-452d-f74d-8fec107015be"
      },
      "source": [
        "inv([[2, -1], [1, -1]]) @ np.array([[2, 1], [-2, 1]])"
      ],
      "execution_count": null,
      "outputs": [
        {
          "output_type": "execute_result",
          "data": {
            "text/plain": [
              "array([[ 4.,  0.],\n",
              "       [ 6., -1.]])"
            ]
          },
          "metadata": {
            "tags": []
          },
          "execution_count": 49
        }
      ]
    },
    {
      "cell_type": "markdown",
      "metadata": {
        "id": "HVDgua9Lqadd"
      },
      "source": [
        "## c"
      ]
    },
    {
      "cell_type": "code",
      "metadata": {
        "colab": {
          "base_uri": "https://localhost:8080/"
        },
        "id": "_VPxpv4_qjvt",
        "outputId": "2035e996-76e4-4abc-809c-1c9685349daa"
      },
      "source": [
        "det([[1, 0 , 1], [2, -1, 0], [-1, 2, -1]])"
      ],
      "execution_count": null,
      "outputs": [
        {
          "output_type": "execute_result",
          "data": {
            "text/plain": [
              "3.999999999999999"
            ]
          },
          "metadata": {
            "tags": []
          },
          "execution_count": 50
        }
      ]
    },
    {
      "cell_type": "code",
      "metadata": {
        "id": "wQKQJiQnqu08"
      },
      "source": [
        "P2 = np.array([[1, 0 , 1], [2, -1, 0], [-1, 2, -1]])"
      ],
      "execution_count": null,
      "outputs": []
    },
    {
      "cell_type": "markdown",
      "metadata": {
        "id": "Oba6AJCNqi6L"
      },
      "source": [
        "$\\Phi(b_1)= c_1 +2c_3$\n",
        "\n",
        "$\\Phi(b_2)= -c_1 +c_2-c_3$\n",
        "\n",
        "$A_\\Phi = \\begin{bmatrix} 1 & -1 \\\\ 0 & 1\\\\ 2 & -1 \\end{bmatrix}$\n",
        "\n"
      ]
    },
    {
      "cell_type": "markdown",
      "metadata": {
        "id": "VrIFSl1irpfT"
      },
      "source": [
        "## e"
      ]
    },
    {
      "cell_type": "code",
      "metadata": {
        "colab": {
          "base_uri": "https://localhost:8080/"
        },
        "id": "PglKTLPrrrN7",
        "outputId": "01e56e25-9128-489d-9b6a-48ce5c1afa46"
      },
      "source": [
        "P2 @ np.array([[1, -1], [0, 1], [2, -1]]) @ np.array([[4, 0], [6, -1]])"
      ],
      "execution_count": null,
      "outputs": [
        {
          "output_type": "execute_result",
          "data": {
            "text/plain": [
              "array([[  0,   2],\n",
              "       [-10,   3],\n",
              "       [ 12,  -4]])"
            ]
          },
          "metadata": {
            "tags": []
          },
          "execution_count": 52
        }
      ]
    },
    {
      "cell_type": "code",
      "metadata": {
        "colab": {
          "base_uri": "https://localhost:8080/"
        },
        "id": "fu1Nj_1-r_1F",
        "outputId": "4f206c83-aed6-40bd-b81d-d7cc18e80438"
      },
      "source": [
        "np.array([[4, 0], [6, -1]]) @ np.array([[2], [3]])"
      ],
      "execution_count": null,
      "outputs": [
        {
          "output_type": "execute_result",
          "data": {
            "text/plain": [
              "array([[8],\n",
              "       [9]])"
            ]
          },
          "metadata": {
            "tags": []
          },
          "execution_count": 53
        }
      ]
    },
    {
      "cell_type": "code",
      "metadata": {
        "colab": {
          "base_uri": "https://localhost:8080/"
        },
        "id": "Y82f1K3ksbAt",
        "outputId": "e999fd77-841b-4279-ddd9-dfe0f8fe7aee"
      },
      "source": [
        "np.array([[1, -1], [0, 1], [2, -1]]) @ _"
      ],
      "execution_count": null,
      "outputs": [
        {
          "output_type": "execute_result",
          "data": {
            "text/plain": [
              "array([[-1],\n",
              "       [ 9],\n",
              "       [ 7]])"
            ]
          },
          "metadata": {
            "tags": []
          },
          "execution_count": 54
        }
      ]
    },
    {
      "cell_type": "code",
      "metadata": {
        "colab": {
          "base_uri": "https://localhost:8080/"
        },
        "id": "MLe9W8uNshuk",
        "outputId": "e8094ad6-93b6-4251-aa93-469e6c648f1c"
      },
      "source": [
        "P2 @ _"
      ],
      "execution_count": null,
      "outputs": [
        {
          "output_type": "execute_result",
          "data": {
            "text/plain": [
              "array([[  6],\n",
              "       [-11],\n",
              "       [ 12]])"
            ]
          },
          "metadata": {
            "tags": []
          },
          "execution_count": 55
        }
      ]
    },
    {
      "cell_type": "code",
      "metadata": {
        "colab": {
          "base_uri": "https://localhost:8080/"
        },
        "id": "mjMKdZcNsqFZ",
        "outputId": "81f62b67-b60d-4a93-9f22-40d18756995e"
      },
      "source": [
        "P2 @ np.array([[1, -1], [0, 1], [2, -1]]) @ np.array([[4, 0], [6, -1]]) @ np.array([[2], [3]])"
      ],
      "execution_count": null,
      "outputs": [
        {
          "output_type": "execute_result",
          "data": {
            "text/plain": [
              "array([[  6],\n",
              "       [-11],\n",
              "       [ 12]])"
            ]
          },
          "metadata": {
            "tags": []
          },
          "execution_count": 56
        }
      ]
    },
    {
      "cell_type": "code",
      "metadata": {
        "id": "xeA6KaJPsuw0"
      },
      "source": [
        ""
      ],
      "execution_count": null,
      "outputs": []
    }
  ]
}