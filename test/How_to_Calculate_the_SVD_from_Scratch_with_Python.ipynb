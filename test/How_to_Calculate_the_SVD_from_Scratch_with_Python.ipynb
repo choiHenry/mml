{
  "nbformat": 4,
  "nbformat_minor": 0,
  "metadata": {
    "colab": {
      "name": "How to Calculate the SVD from Scratch with Python.ipynb",
      "provenance": []
    },
    "kernelspec": {
      "name": "python3",
      "display_name": "Python 3"
    }
  },
  "cells": [
    {
      "cell_type": "markdown",
      "metadata": {
        "id": "ttuEsuOalJLE"
      },
      "source": [
        "# Singular Value Decomposition"
      ]
    },
    {
      "cell_type": "markdown",
      "metadata": {
        "id": "mLxln0fOk9xW"
      },
      "source": [
        "$A = U * \\Sigma * V^T$"
      ]
    },
    {
      "cell_type": "markdown",
      "metadata": {
        "id": "PqgrwKecnZuZ"
      },
      "source": [
        "# Calculate Singular Value Decomposition"
      ]
    },
    {
      "cell_type": "code",
      "metadata": {
        "colab": {
          "base_uri": "https://localhost:8080/"
        },
        "id": "Zl5O6pzont4k",
        "outputId": "ab562fe9-8758-4134-8d4d-0121fa8590c7"
      },
      "source": [
        "# Singular value decomposition\n",
        "import numpy as np\n",
        "from scipy.linalg import svd\n",
        "# define a matrix\n",
        "A = np.array([[1, 2],\n",
        "              [3, 4],\n",
        "              [5, 6]])\n",
        "print(A)\n",
        "U, S, VT = svd(A)\n",
        "print(U)\n",
        "print(S)\n",
        "print(VT)"
      ],
      "execution_count": 16,
      "outputs": [
        {
          "output_type": "stream",
          "text": [
            "[[1 2]\n",
            " [3 4]\n",
            " [5 6]]\n",
            "[[-0.2298477   0.88346102  0.40824829]\n",
            " [-0.52474482  0.24078249 -0.81649658]\n",
            " [-0.81964194 -0.40189603  0.40824829]]\n",
            "[9.52551809 0.51430058]\n",
            "[[-0.61962948 -0.78489445]\n",
            " [-0.78489445  0.61962948]]\n"
          ],
          "name": "stdout"
        }
      ]
    },
    {
      "cell_type": "markdown",
      "metadata": {
        "id": "8U_N8KFfoCMd"
      },
      "source": [
        "# Reconstruct Matrix from SVD"
      ]
    },
    {
      "cell_type": "code",
      "metadata": {
        "colab": {
          "base_uri": "https://localhost:8080/"
        },
        "id": "NEmZjBRxpEUH",
        "outputId": "78ecb0f6-ca43-4d40-ab6e-1e8f40abb67e"
      },
      "source": [
        "# Reconstruct SVD\n",
        "import numpy as np\n",
        "\n",
        "# create m x n zero Sigma matrix\n",
        "Sigma = np.zeros(A.shape)\n",
        "\n",
        "# populate Sigma with n x n diagonal matrix\n",
        "k = min(A.shape)\n",
        "print(k)\n",
        "Sigma[:k, :k] = np.diag(S)\n",
        "B = U.dot(Sigma.dot(VT))"
      ],
      "execution_count": 17,
      "outputs": [
        {
          "output_type": "stream",
          "text": [
            "2\n"
          ],
          "name": "stdout"
        }
      ]
    },
    {
      "cell_type": "code",
      "metadata": {
        "colab": {
          "base_uri": "https://localhost:8080/"
        },
        "id": "Nj7eLPRKqUH3",
        "outputId": "6f0a4084-88ea-44f4-8ecb-5f59ec230b0d"
      },
      "source": [
        "print(B)"
      ],
      "execution_count": 18,
      "outputs": [
        {
          "output_type": "stream",
          "text": [
            "[[1. 2.]\n",
            " [3. 4.]\n",
            " [5. 6.]]\n"
          ],
          "name": "stdout"
        }
      ]
    },
    {
      "cell_type": "code",
      "metadata": {
        "id": "WTWKmYVqsfq8"
      },
      "source": [
        "def svd(lA):\n",
        "    arrA = np.array(A)\n",
        "    U, S, VT = svd(A)\n",
        "    Sigma = np.zeros(A.shape)\n",
        "    k = min(A.shape)\n",
        "    Sigma[:k, :k] = np.diag(S)\n",
        "    return U, Sigma, VT"
      ],
      "execution_count": null,
      "outputs": []
    },
    {
      "cell_type": "markdown",
      "metadata": {
        "id": "8nxnOQzA8wZY"
      },
      "source": [
        "# SVD for Pseudoinverse\n"
      ]
    },
    {
      "cell_type": "markdown",
      "metadata": {
        "id": "0EQ5Dc_x8yFt"
      },
      "source": [
        "The pseudoinverse is denoted as $A^+$, where $A$ is the matrix that is being inverted and + is a superscript."
      ]
    },
    {
      "cell_type": "markdown",
      "metadata": {
        "id": "Kf7OJDo982Fl"
      },
      "source": [
        "$A^+ = VD^+U^T$"
      ]
    },
    {
      "cell_type": "markdown",
      "metadata": {
        "id": "NmEQ_pBS84z1"
      },
      "source": [
        "The $D^+$ can be calculated by creating a diagonal matrix from Sigma, calculating the reciprocal of each non-zero element in Sigma, and taking the transpose if the original matrix was rectangular.\n"
      ]
    },
    {
      "cell_type": "code",
      "metadata": {
        "colab": {
          "base_uri": "https://localhost:8080/"
        },
        "id": "H-ATldq586-G",
        "outputId": "7f827e30-9f22-4437-8205-aa740264d723"
      },
      "source": [
        "# Pseudoinverse\n",
        "# define matrix\n",
        "A = np.array([[0.1, 0.2],\n",
        "              [0.3, 0.4],\n",
        "              [0.5, 0.6],\n",
        "              [0.7,\n",
        "               0.8]])\n",
        "print(A)\n",
        "# calculate pseudoinverse\n",
        "B = np.linalg.pinv(A)\n",
        "print(B)"
      ],
      "execution_count": 20,
      "outputs": [
        {
          "output_type": "stream",
          "text": [
            "[[0.1 0.2]\n",
            " [0.3 0.4]\n",
            " [0.5 0.6]\n",
            " [0.7 0.8]]\n",
            "[[-1.0000000e+01 -5.0000000e+00  8.4040814e-15  5.0000000e+00]\n",
            " [ 8.5000000e+00  4.5000000e+00  5.0000000e-01 -3.5000000e+00]]\n"
          ],
          "name": "stdout"
        }
      ]
    },
    {
      "cell_type": "code",
      "metadata": {
        "id": "LtLjhmOX9AKi"
      },
      "source": [
        "def pinv(lA):\n",
        "    arrA = np.array(A)\n",
        "    U, s, VT = np.linalg.svd(A)\n",
        "    d = 1.0/s\n",
        "    D = np.zeros(A.shape)\n",
        "    k = min(A.shape)\n",
        "    D[:k, :k] = np.diag(d)\n",
        "    return (VT.T).dot((D.T).dot(U.T))"
      ],
      "execution_count": null,
      "outputs": []
    },
    {
      "cell_type": "code",
      "metadata": {
        "id": "GU7BseB-9Cw7"
      },
      "source": [
        "pinv(A)"
      ],
      "execution_count": null,
      "outputs": []
    },
    {
      "cell_type": "code",
      "metadata": {
        "id": "szLTh0N99DYb"
      },
      "source": [
        "np.linalg.pinv(A)"
      ],
      "execution_count": null,
      "outputs": []
    },
    {
      "cell_type": "markdown",
      "metadata": {
        "id": "RbCPAr-18krl"
      },
      "source": [
        "# SVD for Dimensionality Reduction"
      ]
    },
    {
      "cell_type": "code",
      "metadata": {
        "id": "rdOKEZTH8mJk"
      },
      "source": [
        "def approximate(lA, n_components):\n",
        "    arrA = np.array(lA)\n",
        "    U, Sigma, VT = svd(arrA)\n",
        "    Sigmak = Sigma[:, :n_components]\n",
        "    VTk = VT[:n_components, :]\n",
        "    print(U.shape, Sigmak.shape, VTk.shape)\n",
        "    return U.dot(Sigmak.dot(VTk))"
      ],
      "execution_count": 19,
      "outputs": []
    },
    {
      "cell_type": "code",
      "metadata": {
        "colab": {
          "base_uri": "https://localhost:8080/"
        },
        "id": "sPFde6uF8mer",
        "outputId": "24e54a73-beca-463c-c4c2-c351912ba327"
      },
      "source": [
        "from sklearn.decomposition import TruncatedSVD\n",
        "# define array\n",
        "A = np.array([\n",
        "\t[1,2,3,4,5,6,7,8,9,10],\n",
        "\t[11,12,13,14,15,16,17,18,19,20],\n",
        "\t[21,22,23,24,25,26,27,28,29,30]])\n",
        "print(A)\n",
        "# svd\n",
        "svd = TruncatedSVD(n_components=2)\n",
        "svd.fit(A)\n",
        "result = svd.transform(A)\n",
        "print(result)"
      ],
      "execution_count": 21,
      "outputs": [
        {
          "output_type": "stream",
          "text": [
            "[[ 1  2  3  4  5  6  7  8  9 10]\n",
            " [11 12 13 14 15 16 17 18 19 20]\n",
            " [21 22 23 24 25 26 27 28 29 30]]\n",
            "[[18.52157747  6.47697214]\n",
            " [49.81310011  1.91182038]\n",
            " [81.10462276 -2.65333138]]\n"
          ],
          "name": "stdout"
        }
      ]
    },
    {
      "cell_type": "code",
      "metadata": {
        "id": "CXjzffmt9RIP"
      },
      "source": [
        ""
      ],
      "execution_count": null,
      "outputs": []
    }
  ]
}