{
  "nbformat": 4,
  "nbformat_minor": 0,
  "metadata": {
    "colab": {
      "name": "mml-book-chapter-3-exercises.ipynb",
      "provenance": []
    },
    "kernelspec": {
      "name": "python3",
      "display_name": "Python 3"
    }
  },
  "cells": [
    {
      "cell_type": "code",
      "metadata": {
        "id": "h47oN-8PsVkt"
      },
      "source": [
        "import numpy as np\n",
        "from sympy import *\n",
        "\n",
        "\n",
        "def get_m0(n: int):\n",
        "    \"\"\"\n",
        "    get a fundamental matrix in statistics, \"centering matrix\" that is used to transform data to\n",
        "    deviations from their mean\n",
        "    :param n: length of data\n",
        "    :return: $M_0$\n",
        "    \"\"\"\n",
        "    return (-1 / n) * np.ones((n, n)) + np.eye(n)\n",
        "\n",
        "\n",
        "def sum(array):\n",
        "    n = array.shape[0]\n",
        "    i = np.ones(n)\n",
        "\n",
        "    return np.dot(i, array)\n",
        "\n",
        "def mean(array):\n",
        "    import numpy as np\n",
        "    n = array.shape[0]\n",
        "    i = np.ones(n)\n",
        "    return (1 / n) * np.dot(i, array)\n",
        "\n",
        "\n",
        "def mean_deviation(array):\n",
        "    n = array.shape[0]\n",
        "    m0 = get_m0(n)\n",
        "    return np.matmul(m0, array)\n",
        "\n",
        "\n",
        "def sum_of_squares(array):\n",
        "    return np.sum(array ** 2)\n",
        "\n",
        "\n",
        "def sum_of_squared_deviation(array):\n",
        "    return sum_of_squares(mean_deviation(array))\n",
        "\n",
        "\n",
        "def sum_of_squres_matrix(a, b):\n",
        "    z = np.c_[a, b]\n",
        "    return z.T.matmul(get_m0(z.shape[0])).matmul(z)\n",
        "\n",
        "\n",
        "def rref(matrix):\n",
        "    m = Matrix(matrix)\n",
        "    return np.array(m.rref()[0].tolist()).astype(np.float64)\n",
        "\n",
        "def rank(matrix):\n",
        "    return np.linalg.matrix_ranK(matrix)\n",
        "\n",
        "def det(matrix):\n",
        "    return np.linalg.det(matrix)\n",
        "\n",
        "def inv(matrix):\n",
        "    return np.linalg.inv(matrix)\n",
        "\n",
        "def l1_norm(matrix):\n",
        "    return np.abs(np.array(matrix)).sum()\n",
        "\n",
        "def l2_norm(matrix):\n",
        "    return np.sqrt((np.array(matrix) ** 2).sum())\n",
        "\n",
        "def dot(arr1, arr2):\n",
        "    return np.dot(np.array(arr1), np.array(arr2))\n",
        "\n",
        "def arccos(angle):\n",
        "    return np.arccos(angle)\n",
        "\n",
        "def arccos_deg(angle):\n",
        "    return arccos(angle) * 180 / np.pi\n",
        "\n",
        "def orthogonal(arr1, arr2):\n",
        "    return dot(arr1, arr2) == 0\n",
        "\n",
        "def normalize(v):\n",
        "    return v/l2_norm(v)\n",
        "\n",
        "def inner_product(x, y, A):\n",
        "    x_arr = np.array(x)\n",
        "    y_arr = np.array(y)\n",
        "    A_arr = np.array(A)\n",
        "    return np.matmul(np.matmul(x_arr, A_arr), y_arr.T)\n",
        "def proj_matrix(U):\n",
        "    U_arr = np.array(U)\n",
        "\n",
        "    return U_arr.dot(inv(U_arr.T.dot(U_arr))).dot(U_arr.T)\n",
        "\n",
        "def proj(v, U):\n",
        "    v_arr = np.array(v)\n",
        "\n",
        "    return proj_matrix(U).dot(v_arr)\n",
        "\n",
        "def gram_schmidt(B):\n",
        "    B_arr = np.array(B)\n",
        "    for i in range(B_arr.shape[1]):\n",
        "        if i == 0:\n",
        "            U = normalize(B_arr[:, i])\n",
        "            U = U.reshape(U.shape[0], -1)\n",
        "        else:\n",
        "            U_j = normalize(B_arr[:, i] - proj(B_arr[:, i], U))\n",
        "            U = np.c_[U, U_j]\n",
        "    return U\n",
        "\n",
        "def rotate(x, deg):\n",
        "    x_arr = np.array(x)\n",
        "    rad = deg*np.pi/180\n",
        "    return np.matmul(np.array([[np.cos(rad), -np.sin(rad)], [np.sin(rad), np.cos(rad)]]), x_arr)\n",
        "\n",
        "class LinearRegression:\n",
        "\n",
        "    def __init__(self):\n",
        "        self._params_ = None\n",
        "        self._intercept_ = None\n",
        "        self._coef_ = None\n",
        "\n",
        "    @property\n",
        "    def params_(self):\n",
        "        return self._params_\n",
        "\n",
        "    @params_.setter\n",
        "    def params_(self, params):\n",
        "        import numpy as np\n",
        "        self._params_ = np.array(params)\n",
        "\n",
        "    @property\n",
        "    def intercept_(self):\n",
        "        return self._intercept_\n",
        "\n",
        "    @intercept_.setter\n",
        "    def intercept_(self, intercept):\n",
        "        import numpy as np\n",
        "        self._intercept_ = np.array(intercept)\n",
        "\n",
        "    @property\n",
        "    def coef_(self):\n",
        "        return self._coef_\n",
        "\n",
        "    @coef_.setter\n",
        "    def coef_(self, coef):\n",
        "        import numpy as np\n",
        "        self._coef_ = np.array(coef)\n",
        "\n",
        "    def fit(self, X, y):\n",
        "        n = X.shape[0]\n",
        "        ones = np.ones(n)\n",
        "        feat = np.c_[X, ones]\n",
        "        inv = np.linalg.inv(np.matmul(feat.T, feat))\n",
        "        self.params_ = np.matmul(np.matmul(inv, feat.T), y)\n",
        "        self.coef_ = self.params_[0]\n",
        "        self.intercept_ = self.params_[1]\n",
        "        print(self.params_)\n",
        "\n",
        "    def predict(self, x):\n",
        "        n = x.shape[0]\n",
        "        feat = np.c_[x, np.ones(n)]\n",
        "        return np.matmul(feat, self.params_)"
      ],
      "execution_count": 27,
      "outputs": []
    },
    {
      "cell_type": "markdown",
      "metadata": {
        "id": "zGmp-pQuwCtP"
      },
      "source": [
        "# 1"
      ]
    },
    {
      "cell_type": "markdown",
      "metadata": {
        "id": "MQ-7ti3Sv0m2"
      },
      "source": [
        "$\\langle x, y \\rangle := x_1y_1 - (x_1y_2+x_2y_1)+2x_2y_2$\n",
        "\n",
        "Positive definite and symmetric part is easy to prove.\n",
        "\n",
        "$\\langle ax+by, z \\rangle = (ax_1+by_1)z_1 - ((ax_1+by_1)z_2+(ax_2+by_2)z_1)+2(ax_2+by_2)z_2 = a\\langle x, z \\rangle + b \\langle y, z \\rangle$ "
      ]
    },
    {
      "cell_type": "markdown",
      "metadata": {
        "id": "kRBbpYagwBkd"
      },
      "source": [
        "# 2"
      ]
    },
    {
      "cell_type": "markdown",
      "metadata": {
        "id": "AYdI0uPfwQHj"
      },
      "source": [
        "$\\begin{bmatrix} 2 & 0 \\\\ 1 & 2 \\end{bmatrix}$ is not symmetric."
      ]
    },
    {
      "cell_type": "markdown",
      "metadata": {
        "id": "0SYFvuo9wb2q"
      },
      "source": [
        "# 3"
      ]
    },
    {
      "cell_type": "markdown",
      "metadata": {
        "id": "0iISmRDCwc8N"
      },
      "source": [
        "## a"
      ]
    },
    {
      "cell_type": "markdown",
      "metadata": {
        "id": "omXkK4V6wuid"
      },
      "source": [
        "-3"
      ]
    },
    {
      "cell_type": "markdown",
      "metadata": {
        "id": "6rqq05l7wwDl"
      },
      "source": [
        "## b"
      ]
    },
    {
      "cell_type": "code",
      "metadata": {
        "colab": {
          "base_uri": "https://localhost:8080/"
        },
        "id": "VZaMssgawxyh",
        "outputId": "b43066b1-9a28-4188-e4cc-a8f453a8994f"
      },
      "source": [
        "x = np.array([[1],\n",
        "              [2],\n",
        "              [3]])\n",
        "y = np.array([[-1],\n",
        "              [-1],\n",
        "              [0]])\n",
        "A = np.array([[2, 1, 0],\n",
        "              [1, 3, -1],\n",
        "              [0, -1, 2]])\n",
        "np.matmul(np.matmul(x.T, A), y)"
      ],
      "execution_count": 5,
      "outputs": [
        {
          "output_type": "execute_result",
          "data": {
            "text/plain": [
              "array([[-8]])"
            ]
          },
          "metadata": {
            "tags": []
          },
          "execution_count": 5
        }
      ]
    },
    {
      "cell_type": "markdown",
      "metadata": {
        "id": "f7kC09x3xHuO"
      },
      "source": [
        "# 5"
      ]
    },
    {
      "cell_type": "markdown",
      "metadata": {
        "id": "z2HSRYhFyIB9"
      },
      "source": [
        "## a"
      ]
    },
    {
      "cell_type": "code",
      "metadata": {
        "colab": {
          "base_uri": "https://localhost:8080/"
        },
        "id": "HPILbi4Yx04W",
        "outputId": "ca78cdfd-44d1-4008-f87a-30838c6997b5"
      },
      "source": [
        "U = np.array([[0, 1, -3, -3],\n",
        "              [-1, -3, 4, -3],\n",
        "              [2, 1, 1, 5],\n",
        "              [0, -1, 2, 0],\n",
        "              [2, 2, 1, 7]])\n",
        "x = np.array([-1, -9, -1, 4, 1]).T\n",
        "proj(x, U)"
      ],
      "execution_count": 6,
      "outputs": [
        {
          "output_type": "execute_result",
          "data": {
            "text/plain": [
              "array([-1.        , -6.09090909, -0.27272727, -2.54545455,  1.72727273])"
            ]
          },
          "metadata": {
            "tags": []
          },
          "execution_count": 6
        }
      ]
    },
    {
      "cell_type": "markdown",
      "metadata": {
        "id": "BsbmwjoNyMEf"
      },
      "source": [
        "## b"
      ]
    },
    {
      "cell_type": "code",
      "metadata": {
        "colab": {
          "base_uri": "https://localhost:8080/"
        },
        "id": "xAFl0sjByO2C",
        "outputId": "b3874e1a-53a5-4bb7-8e2b-1d15896a0b82"
      },
      "source": [
        "l2_norm(x - proj(x, U))"
      ],
      "execution_count": 7,
      "outputs": [
        {
          "output_type": "execute_result",
          "data": {
            "text/plain": [
              "7.236272269866313"
            ]
          },
          "metadata": {
            "tags": []
          },
          "execution_count": 7
        }
      ]
    },
    {
      "cell_type": "markdown",
      "metadata": {
        "id": "rQ2Fbj3zyYVu"
      },
      "source": [
        "# 6"
      ]
    },
    {
      "cell_type": "markdown",
      "metadata": {
        "id": "q3Z_Ljw87Q6U"
      },
      "source": [
        "## a"
      ]
    },
    {
      "cell_type": "code",
      "metadata": {
        "id": "6Ol7yHX77dMN"
      },
      "source": [
        "A =[[2, 1, 0],\n",
        "    [1, 2, -1],\n",
        "    [0, -1, 2]]\n",
        "e_1 = [1, 0, 0]\n",
        "e_2 = [0, 1, 0]\n",
        "e_3 = [0, 0, 1]"
      ],
      "execution_count": 13,
      "outputs": []
    },
    {
      "cell_type": "code",
      "metadata": {
        "colab": {
          "base_uri": "https://localhost:8080/"
        },
        "id": "TEeOeYf29LQt",
        "outputId": "62e6328e-e4de-4d84-99eb-b185170a0326"
      },
      "source": [
        "proj12 = inner_product(e_1, e_2, A) / inner_product(e_1, e_1, A) * np.array(e_1)\n",
        "proj32 = inner_product(e_3, e_2, A) / inner_product(e_3, e_3, A) * np.array(e_3)\n",
        "proj12+proj32"
      ],
      "execution_count": 19,
      "outputs": [
        {
          "output_type": "execute_result",
          "data": {
            "text/plain": [
              "array([ 0.5,  0. , -0.5])"
            ]
          },
          "metadata": {
            "tags": []
          },
          "execution_count": 19
        }
      ]
    },
    {
      "cell_type": "markdown",
      "metadata": {
        "id": "7iZ0WRR77PmN"
      },
      "source": [
        "## b"
      ]
    },
    {
      "cell_type": "code",
      "metadata": {
        "colab": {
          "base_uri": "https://localhost:8080/"
        },
        "id": "FbGCeFMs-oSs",
        "outputId": "ecd611a7-664a-4042-983a-87845399618c"
      },
      "source": [
        "np.sqrt(inner_product(np.array(e_2) - proj12+proj32, np.array(e_2) - proj12+proj32, A))"
      ],
      "execution_count": 21,
      "outputs": [
        {
          "output_type": "execute_result",
          "data": {
            "text/plain": [
              "1.7320508075688772"
            ]
          },
          "metadata": {
            "tags": []
          },
          "execution_count": 21
        }
      ]
    },
    {
      "cell_type": "markdown",
      "metadata": {
        "id": "GNmAcVYM-3N_"
      },
      "source": [
        "# 7"
      ]
    },
    {
      "cell_type": "markdown",
      "metadata": {
        "id": "8eHhHY1FFCu-"
      },
      "source": [
        "$ (\\mbox{id}_V - \\pi) \\circ (\\mbox{id}_V - \\pi) = (\\mbox{id}_V - \\pi)$"
      ]
    },
    {
      "cell_type": "markdown",
      "metadata": {
        "id": "k7KnkM3-FXBQ"
      },
      "source": [
        "# 3.8"
      ]
    },
    {
      "cell_type": "code",
      "metadata": {
        "colab": {
          "base_uri": "https://localhost:8080/"
        },
        "id": "A5pyzu4PFxXZ",
        "outputId": "279ceac6-b333-4e3c-d757-f9e1384d249d"
      },
      "source": [
        "gram_schmidt([[1, -1],\n",
        "              [1, 2],\n",
        "              [1, 0]])"
      ],
      "execution_count": 24,
      "outputs": [
        {
          "output_type": "execute_result",
          "data": {
            "text/plain": [
              "array([[ 0.57735027, -0.6172134 ],\n",
              "       [ 0.57735027,  0.77151675],\n",
              "       [ 0.57735027, -0.15430335]])"
            ]
          },
          "metadata": {
            "tags": []
          },
          "execution_count": 24
        }
      ]
    },
    {
      "cell_type": "markdown",
      "metadata": {
        "id": "DHFsJsBDF4y0"
      },
      "source": [
        "# 9"
      ]
    },
    {
      "cell_type": "markdown",
      "metadata": {
        "id": "POiMzbl1HffK"
      },
      "source": [
        "## a\n"
      ]
    },
    {
      "cell_type": "markdown",
      "metadata": {
        "id": "XEBa5lfsHg87"
      },
      "source": [
        "$x = (x_1, \\dots, x_n), y = (1, \\dots, 1)$\n",
        "\n",
        "$ (\\Sigma_{i=1}^n x_iy_i)^2 \\leq (\\Sigma_{i=1}^n x_i^2)(\\Sigma_{i=1}^n y_i^2)$"
      ]
    },
    {
      "cell_type": "markdown",
      "metadata": {
        "id": "kZaoEkv-KoTz"
      },
      "source": [
        "## b"
      ]
    },
    {
      "cell_type": "markdown",
      "metadata": {
        "id": "03JqgL_kKpvk"
      },
      "source": [
        "$ x = (\\sqrt{x_1}, \\dots, \\sqrt{x_n})$\n",
        "\n",
        "$ y = (\\sqrt{\\frac{1}{x_1}}, \\dots, \\sqrt{\\frac{1}{x_n}})$"
      ]
    },
    {
      "cell_type": "markdown",
      "metadata": {
        "id": "PIRjbhmeIB4E"
      },
      "source": [
        "# 10"
      ]
    },
    {
      "cell_type": "code",
      "metadata": {
        "colab": {
          "base_uri": "https://localhost:8080/"
        },
        "id": "aVlaPK96JV6m",
        "outputId": "89c4b7c5-a739-4ee6-dbce-6bf719f24b93"
      },
      "source": [
        "x_1 = [2, 3]\n",
        "rotate(x_1, 30)"
      ],
      "execution_count": 28,
      "outputs": [
        {
          "output_type": "execute_result",
          "data": {
            "text/plain": [
              "array([0.23205081, 3.59807621])"
            ]
          },
          "metadata": {
            "tags": []
          },
          "execution_count": 28
        }
      ]
    },
    {
      "cell_type": "code",
      "metadata": {
        "colab": {
          "base_uri": "https://localhost:8080/"
        },
        "id": "bealrWhVJhE4",
        "outputId": "9db85341-0b6f-40d1-e5ca-43027100b9af"
      },
      "source": [
        "x_2 = [0, -1]\n",
        "rotate(x_1, 30)"
      ],
      "execution_count": 29,
      "outputs": [
        {
          "output_type": "execute_result",
          "data": {
            "text/plain": [
              "array([0.23205081, 3.59807621])"
            ]
          },
          "metadata": {
            "tags": []
          },
          "execution_count": 29
        }
      ]
    }
  ]
}