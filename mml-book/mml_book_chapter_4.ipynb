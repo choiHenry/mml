{
  "nbformat": 4,
  "nbformat_minor": 0,
  "metadata": {
    "colab": {
      "name": "mml-book-chapter-4.ipynb",
      "provenance": []
    },
    "kernelspec": {
      "name": "python3",
      "display_name": "Python 3"
    }
  },
  "cells": [
    {
      "cell_type": "markdown",
      "metadata": {
        "id": "4Y1J30D8HGs8"
      },
      "source": [
        "# 4.1 Determinant and Trace"
      ]
    },
    {
      "cell_type": "code",
      "metadata": {
        "id": "Jz11jVWlMShV"
      },
      "source": [
        "import numpy as np\n",
        "from sympy import *\n",
        "from sympy.abc import x, y\n",
        "import matplotlib.pyplot as plt\n",
        "import scipy\n",
        "\n",
        "def get_m0(n: int):\n",
        "    \"\"\"\n",
        "    get a fundamental matrix in statistics, \"centering matrix\" that is used to transform data to\n",
        "    deviations from their mean\n",
        "    :param n: length of data\n",
        "    :return: $M_0$\n",
        "    \"\"\"\n",
        "    return (-1 / n) * np.ones((n, n)) + np.eye(n)\n",
        "\n",
        "\n",
        "def sum(array):\n",
        "    n = array.shape[0]\n",
        "    i = np.ones(n)\n",
        "\n",
        "    return np.dot(i, array)\n",
        "\n",
        "def mean(array):\n",
        "    import numpy as np\n",
        "    n = array.shape[0]\n",
        "    i = np.ones(n)\n",
        "    return (1 / n) * np.dot(i, array)\n",
        "\n",
        "\n",
        "def mean_deviation(array):\n",
        "    n = array.shape[0]\n",
        "    m0 = get_m0(n)\n",
        "    return np.matmul(m0, array)\n",
        "\n",
        "\n",
        "def sum_of_squares(array):\n",
        "    return np.sum(array ** 2)\n",
        "\n",
        "\n",
        "def sum_of_squared_deviation(array):\n",
        "    return sum_of_squares(mean_deviation(array))\n",
        "\n",
        "\n",
        "def sum_of_squres_matrix(a, b):\n",
        "    z = np.c_[a, b]\n",
        "    return z.T.matmul(get_m0(z.shape[0])).matmul(z)\n",
        "\n",
        "\n",
        "def rref(matrix):\n",
        "    m = Matrix(matrix)\n",
        "    return np.array(m.rref()[0].tolist()).astype(np.float64)\n",
        "\n",
        "def rank(matrix):\n",
        "    return np.linalg.matrix_ranK(matrix)\n",
        "\n",
        "def det(matrix):\n",
        "    return np.linalg.det(matrix)\n",
        "\n",
        "def inv(matrix):\n",
        "    return np.linalg.inv(matrix)\n",
        "\n",
        "def l1_norm(matrix):\n",
        "    return np.abs(np.array(matrix)).sum()\n",
        "\n",
        "def l2_norm(matrix):\n",
        "    return np.sqrt((np.array(matrix) ** 2).sum())\n",
        "\n",
        "def dot(arr1, arr2):\n",
        "    return np.dot(np.array(arr1), np.array(arr2))\n",
        "\n",
        "def arccos(angle):\n",
        "    return np.arccos(angle)\n",
        "\n",
        "def arccos_deg(angle):\n",
        "    return arccos(angle) * 180 / np.pi\n",
        "\n",
        "def orthogonal(arr1, arr2):\n",
        "    return dot(arr1, arr2) == 0\n",
        "\n",
        "def normalize(v):\n",
        "    return v/l2_norm(v)\n",
        "\n",
        "def inner_product(x, y, A):\n",
        "    x_arr = np.array(x)\n",
        "    y_arr = np.array(y)\n",
        "    A_arr = np.array(A)\n",
        "    return np.matmul(np.matmul(x_arr, A_arr), y_arr.T)\n",
        "def proj_matrix(U):\n",
        "    U_arr = np.array(U)\n",
        "\n",
        "    return U_arr.dot(inv(U_arr.T.dot(U_arr))).dot(U_arr.T)\n",
        "\n",
        "def proj(v, U):\n",
        "    v_arr = np.array(v)\n",
        "\n",
        "    return proj_matrix(U).dot(v_arr)\n",
        "\n",
        "def gram_schmidt(B):\n",
        "    B_arr = np.array(B)\n",
        "    for i in range(B_arr.shape[1]):\n",
        "        if i == 0:\n",
        "            U = normalize(B_arr[:, i])\n",
        "            U = U.reshape(U.shape[0], -1)\n",
        "        else:\n",
        "            U_j = normalize(B_arr[:, i] - proj(B_arr[:, i], U))\n",
        "            U = np.c_[U, U_j]\n",
        "    return U\n",
        "\n",
        "def rotate(x, deg):\n",
        "    x_arr = np.array(x)\n",
        "    rad = deg*np.pi/180\n",
        "    return np.matmul(np.array([[np.cos(rad), -np.sin(rad)], [np.sin(rad), np.cos(rad)]]), x_arr)\n",
        "\n",
        "def det_laplace_expansion(A, checked=False):\n",
        "    arr = np.array(A)\n",
        "    if not checked:\n",
        "        if len(arr.shape) == 1:\n",
        "            assert arr.shape[0] == 1, \"Input matrix is not square.\"\n",
        "        else:\n",
        "            assert arr.shape[0] == arr.shape[1], \"Input matrix is not square.\"\n",
        "    check = True\n",
        "    if (arr.shape[0] == 1):\n",
        "        return arr\n",
        "    else:\n",
        "        det = 0\n",
        "        for i in range(arr.shape[0]):\n",
        "            row_index = np.array([x for x in range(arr.shape[0]) if x != i])[:,np.newaxis]\n",
        "            print(arr.shape[0])\n",
        "            print(row_index)\n",
        "            column_index = np.array([x for x in range(arr.shape[1]) if x != 0])\n",
        "            print(column_index)\n",
        "            print(arr[row_index, column_index])\n",
        "            det += ((-1)**i) * det_laplace_expansion(arr[row_index, column_index], checked)\n",
        "        return det\n",
        "\n",
        "def trace(A):\n",
        "    arr = np.array(A)\n",
        "    return np.trace(A)\n",
        "\n",
        "def charpoly(A):\n",
        "    M = Matrix(A)\n",
        "    return M.charpoly(x).as_expr()\n",
        "\n",
        "def eig(A):\n",
        "    M = np.array(A)\n",
        "    return np.linalg.eig(M)\n",
        "\n",
        "def cholesky(lA):\n",
        "    arrA = np.array(lA)\n",
        "    return np.linalg.cholesky(arrA)    \n",
        "\n",
        "\n",
        "def plotVectors(vecs, cols, alpha=1):\n",
        "    \"\"\"\n",
        "    Plot set of vectors.\n",
        "\n",
        "    Parameters\n",
        "    ----------\n",
        "    vecs : array-like\n",
        "        Coordinates of the vectors to plot. Each vectors is in an array. For\n",
        "        instance: [[1, 3], [2, 2]] can be used to plot 2 vectors.\n",
        "    cols : array-like\n",
        "        Colors of the vectors. For instance: ['red', 'blue'] will display the\n",
        "        first vector in red and the second in blue.\n",
        "    alpha : float\n",
        "        Opacity of vectors\n",
        "\n",
        "    Returns:\n",
        "\n",
        "    fig : instance of matplotlib.figure.Figure\n",
        "        The figure of the vectors\n",
        "    \"\"\"\n",
        "    plt.figure()\n",
        "    plt.axvline(x=0, color='#A9A9A9', zorder=0)\n",
        "    plt.axhline(y=0, color='#A9A9A9', zorder=0)\n",
        "\n",
        "    for i in range(len(vecs)):\n",
        "        x = np.concatenate([[0,0],vecs[i]])\n",
        "        plt.quiver([x[0]],\n",
        "                   [x[1]],\n",
        "                   [x[2]],\n",
        "                   [x[3]],\n",
        "                   angles='xy', scale_units='xy', scale=1, color=cols[i],\n",
        "                   alpha=alpha)\n",
        "\n",
        "def eigen_decomposition(lA):\n",
        "    arrA = np.array(lA)\n",
        "    results = eig(arrA)\n",
        "    assert det(results[1]) != 0, \"Defective matrix cannot be diagonalized.\"\n",
        "    return (results[1], np.diag(results[0]), inv(results[1]))\n",
        "\n",
        "def svd(lA):\n",
        "    arrA = np.array(lA)\n",
        "    U, S, VT = scipy.linalg.svd(arrA)\n",
        "    Sigma = np.zeros(arrA.shape)\n",
        "    k = min(arrA.shape)\n",
        "    Sigma[:k, :k] = np.diag(S)\n",
        "    return U, Sigma, VT\n",
        "\n",
        "def pinv(lA):\n",
        "    arrA = np.array(A)\n",
        "    U, s, VT = np.linalg.svd(A)\n",
        "    d = 1.0/s\n",
        "    D = np.zeros(A.shape)\n",
        "    k = min(A.shape)\n",
        "    D[:k, :k] = np.diag(d)\n",
        "    return (VT.T).dot((D.T).dot(U.T))\n",
        "\n",
        "def approximate(lA, n_components):\n",
        "    arrA = np.array(lA)\n",
        "    U, Sigma, VT = svd(arrA)\n",
        "    Sigmak = Sigma[:, :n_components]\n",
        "    VTk = VT[:n_components, :]\n",
        "    print(U.shape, Sigmak.shape, VTk.shape)\n",
        "    return U.dot(Sigmak.dot(VTk))\n",
        "\n",
        "class LinearRegression:\n",
        "\n",
        "    def __init__(self):\n",
        "        self._params_ = None\n",
        "        self._intercept_ = None\n",
        "        self._coef_ = None\n",
        "\n",
        "    @property\n",
        "    def params_(self):\n",
        "        return self._params_\n",
        "\n",
        "    @params_.setter\n",
        "    def params_(self, params):\n",
        "        import numpy as np\n",
        "        self._params_ = np.array(params)\n",
        "\n",
        "    @property\n",
        "    def intercept_(self):\n",
        "        return self._intercept_\n",
        "\n",
        "    @intercept_.setter\n",
        "    def intercept_(self, intercept):\n",
        "        import numpy as np\n",
        "        self._intercept_ = np.array(intercept)\n",
        "\n",
        "    @property\n",
        "    def coef_(self):\n",
        "        return self._coef_\n",
        "\n",
        "    @coef_.setter\n",
        "    def coef_(self, coef):\n",
        "        import numpy as np\n",
        "        self._coef_ = np.array(coef)\n",
        "\n",
        "    def fit(self, X, y):\n",
        "        n = X.shape[0]\n",
        "        ones = np.ones(n)\n",
        "        feat = np.c_[X, ones]\n",
        "        inv = np.linalg.inv(np.matmul(feat.T, feat))\n",
        "        self.params_ = np.matmul(np.matmul(inv, feat.T), y)\n",
        "        self.coef_ = self.params_[0]\n",
        "        self.intercept_ = self.params_[1]\n",
        "        print(self.params_)\n",
        "\n",
        "    def predict(self, x):\n",
        "        n = x.shape[0]\n",
        "        feat = np.c_[x, np.ones(n)]\n",
        "        return np.matmul(feat, self.params_)"
      ],
      "execution_count": 42,
      "outputs": []
    },
    {
      "cell_type": "code",
      "metadata": {
        "id": "YXa0K2ozYGNj"
      },
      "source": [
        "def det_laplace_expansion(A, checked=False):\n",
        "    arr = np.array(A)\n",
        "    if not checked:\n",
        "        if len(arr.shape) == 1:\n",
        "            assert arr.shape[0] == 1, \"Input matrix is not square.\"\n",
        "        else:\n",
        "            assert arr.shape[0] == arr.shape[1], \"Input matrix is not square.\"\n",
        "    check = True\n",
        "    if (arr.shape[0] == 1):\n",
        "        return arr\n",
        "    else:\n",
        "        det = 0\n",
        "        for i in range(arr.shape[0]):\n",
        "            row_index = np.array([x for x in range(arr.shape[0]) if x != i])[:,np.newaxis]\n",
        "            print(arr.shape[0])\n",
        "            print(row_index)\n",
        "            column_index = np.array([x for x in range(arr.shape[1]) if x != 0])\n",
        "            print(column_index)\n",
        "            print(arr[row_index, column_index])\n",
        "            det += ((-1)**i) * det_laplace_expansion(arr[row_index, column_index], checked)\n",
        "        return det\n"
      ],
      "execution_count": null,
      "outputs": []
    },
    {
      "cell_type": "code",
      "metadata": {
        "colab": {
          "base_uri": "https://localhost:8080/"
        },
        "id": "aYDpXG68GVux",
        "outputId": "d6f5e5ac-55b3-46fe-ec62-4454531baccb"
      },
      "source": [
        "charpoly([[1, 3], [2, 0]])"
      ],
      "execution_count": null,
      "outputs": [
        {
          "output_type": "execute_result",
          "data": {
            "text/plain": [
              "x**2 - x - 6"
            ]
          },
          "metadata": {
            "tags": []
          },
          "execution_count": 5
        }
      ]
    },
    {
      "cell_type": "markdown",
      "metadata": {
        "id": "UvFunxglMIaD"
      },
      "source": [
        "# 4.2 Eigenvalues and Eigenvectors"
      ]
    },
    {
      "cell_type": "code",
      "metadata": {
        "id": "qdmniichOnAo"
      },
      "source": [
        "results = eig([[4, 2],\n",
        "               [1, 3]])"
      ],
      "execution_count": null,
      "outputs": []
    },
    {
      "cell_type": "code",
      "metadata": {
        "colab": {
          "base_uri": "https://localhost:8080/"
        },
        "id": "0aZUvfX-OwiX",
        "outputId": "0f2f758f-39ef-4974-8daa-aaf15eea7681"
      },
      "source": [
        "results[0]"
      ],
      "execution_count": null,
      "outputs": [
        {
          "output_type": "execute_result",
          "data": {
            "text/plain": [
              "array([5., 2.])"
            ]
          },
          "metadata": {
            "tags": []
          },
          "execution_count": 11
        }
      ]
    },
    {
      "cell_type": "code",
      "metadata": {
        "colab": {
          "base_uri": "https://localhost:8080/"
        },
        "id": "lbYQIST2O7ae",
        "outputId": "6ce70f0f-2573-4631-b551-f49e58868dff"
      },
      "source": [
        "results[1]"
      ],
      "execution_count": null,
      "outputs": [
        {
          "output_type": "execute_result",
          "data": {
            "text/plain": [
              "array([[ 0.89442719, -0.70710678],\n",
              "       [ 0.4472136 ,  0.70710678]])"
            ]
          },
          "metadata": {
            "tags": []
          },
          "execution_count": 12
        }
      ]
    },
    {
      "cell_type": "code",
      "metadata": {
        "id": "Atyg-kUFO8v8"
      },
      "source": [
        "results = eig([[1, 1/2],\n",
        "               [0, 1]])"
      ],
      "execution_count": null,
      "outputs": []
    },
    {
      "cell_type": "code",
      "metadata": {
        "colab": {
          "base_uri": "https://localhost:8080/"
        },
        "id": "KeScZnspZx3G",
        "outputId": "308c23c4-575c-49d2-e02a-9e3909deb58d"
      },
      "source": [
        "results[1]"
      ],
      "execution_count": null,
      "outputs": [
        {
          "output_type": "execute_result",
          "data": {
            "text/plain": [
              "array([[ 1.0000000e+00, -1.0000000e+00],\n",
              "       [ 0.0000000e+00,  4.4408921e-16]])"
            ]
          },
          "metadata": {
            "tags": []
          },
          "execution_count": 16
        }
      ]
    },
    {
      "cell_type": "code",
      "metadata": {
        "colab": {
          "base_uri": "https://localhost:8080/"
        },
        "id": "bakgAvvcaCeg",
        "outputId": "c1268351-512a-4c0a-976d-d388d7d024b6"
      },
      "source": [
        "results = eig([[1, -1],\n",
        "               [-1, 1]])\n",
        "results"
      ],
      "execution_count": null,
      "outputs": [
        {
          "output_type": "execute_result",
          "data": {
            "text/plain": [
              "(array([2., 0.]), array([[ 0.70710678,  0.70710678],\n",
              "        [-0.70710678,  0.70710678]]))"
            ]
          },
          "metadata": {
            "tags": []
          },
          "execution_count": 19
        }
      ]
    },
    {
      "cell_type": "code",
      "metadata": {
        "colab": {
          "base_uri": "https://localhost:8080/"
        },
        "id": "KjSPebIMatLL",
        "outputId": "7c723748-64d5-43aa-c16c-810f671dd96d"
      },
      "source": [
        "eig([[1, 1/2],\n",
        "     [1/2, 1]])"
      ],
      "execution_count": null,
      "outputs": [
        {
          "output_type": "execute_result",
          "data": {
            "text/plain": [
              "(array([1.5, 0.5]), array([[ 0.70710678, -0.70710678],\n",
              "        [ 0.70710678,  0.70710678]]))"
            ]
          },
          "metadata": {
            "tags": []
          },
          "execution_count": 20
        }
      ]
    },
    {
      "cell_type": "markdown",
      "metadata": {
        "id": "IhslbBmebVX8"
      },
      "source": [
        "## Theorem 4.14"
      ]
    },
    {
      "cell_type": "markdown",
      "metadata": {
        "id": "8CLM4VEFefLJ"
      },
      "source": [
        "Given a matrix $A \\in \\mathbb{R}^{m\\times n}$, we can always obtain a symmetric, positive semidefinite matrix $S\\in \\mathbb{R}^{n\\times n}$ by defining\n",
        "\n",
        "$$S:=A^TA$$."
      ]
    },
    {
      "cell_type": "markdown",
      "metadata": {
        "id": "YkDW9ayQe3er"
      },
      "source": [
        "_Remark_. If $\\mbox{rk}(A) =n $, then $S:=A^TA$ is symmetric and positive definite."
      ]
    },
    {
      "cell_type": "markdown",
      "metadata": {
        "id": "4gt3y2qxfJc8"
      },
      "source": [
        "If $\\mbox{rk}(A)=n$, $Ax=\\textbf{0}$ implies $x=\\textbf{0}$. Thus $x^TA^TAx=(Ax)^TAx=0$ is satisfied only by $x=\\textbf{0}$."
      ]
    },
    {
      "cell_type": "markdown",
      "metadata": {
        "id": "10FvSRCriy6D"
      },
      "source": [
        "## Theorem 4.15 (Spectral Theorem)"
      ]
    },
    {
      "cell_type": "markdown",
      "metadata": {
        "id": "_B-xAwv3i3if"
      },
      "source": [
        "If $A\\in\\mathbb{R}^{n\\times n}$ is symmetric, there exists an orthonormal basis of the corresponding vector space $V$ consisting of eigenvectors of $A$, and each eigenvalue is real"
      ]
    },
    {
      "cell_type": "code",
      "metadata": {
        "id": "z7fqq25NjWeu"
      },
      "source": [
        "results = eig([[3, 2, 2],\n",
        "               [2, 3, 2],\n",
        "               [2, 2, 3]])"
      ],
      "execution_count": null,
      "outputs": []
    },
    {
      "cell_type": "code",
      "metadata": {
        "colab": {
          "base_uri": "https://localhost:8080/"
        },
        "id": "L1NruCXckndZ",
        "outputId": "20cb0686-6b03-4e0d-8c49-f16b3146ea77"
      },
      "source": [
        "results[0]"
      ],
      "execution_count": null,
      "outputs": [
        {
          "output_type": "execute_result",
          "data": {
            "text/plain": [
              "array([1., 7., 1.])"
            ]
          },
          "metadata": {
            "tags": []
          },
          "execution_count": 25
        }
      ]
    },
    {
      "cell_type": "code",
      "metadata": {
        "colab": {
          "base_uri": "https://localhost:8080/"
        },
        "id": "p1hVCviylUvh",
        "outputId": "f5f6c2f8-da41-4a5a-8966-2f26b90fb592"
      },
      "source": [
        "results[1]"
      ],
      "execution_count": null,
      "outputs": [
        {
          "output_type": "execute_result",
          "data": {
            "text/plain": [
              "array([[-0.81649658,  0.57735027, -0.27546855],\n",
              "       [ 0.40824829,  0.57735027, -0.52791413],\n",
              "       [ 0.40824829,  0.57735027,  0.80338269]])"
            ]
          },
          "metadata": {
            "tags": []
          },
          "execution_count": 26
        }
      ]
    },
    {
      "cell_type": "code",
      "metadata": {
        "colab": {
          "base_uri": "https://localhost:8080/"
        },
        "id": "IwrU4ZmglVqC",
        "outputId": "ae136330-c4fa-4efb-dcd2-a36a3f4de24c"
      },
      "source": [
        "results[1][:, 0].dot(results[1][:, 2])"
      ],
      "execution_count": null,
      "outputs": [
        {
          "output_type": "execute_result",
          "data": {
            "text/plain": [
              "0.33737869762173567"
            ]
          },
          "metadata": {
            "tags": []
          },
          "execution_count": 27
        }
      ]
    },
    {
      "cell_type": "code",
      "metadata": {
        "id": "n1Vd0LIMladv"
      },
      "source": [
        "U = np.c_[results[1][:, 0], results[1][:, 2]]"
      ],
      "execution_count": null,
      "outputs": []
    },
    {
      "cell_type": "code",
      "metadata": {
        "id": "t8qW2TZslqGG"
      },
      "source": [
        "L = gram_schmidt(U)"
      ],
      "execution_count": null,
      "outputs": []
    },
    {
      "cell_type": "code",
      "metadata": {
        "colab": {
          "base_uri": "https://localhost:8080/"
        },
        "id": "U5g8JM7DluI2",
        "outputId": "82420e18-dde5-48b5-9ae9-6f8ba8a772ba"
      },
      "source": [
        "L[:, 0].dot(L[:, 1])"
      ],
      "execution_count": null,
      "outputs": [
        {
          "output_type": "execute_result",
          "data": {
            "text/plain": [
              "1.4738043614404746e-17"
            ]
          },
          "metadata": {
            "tags": []
          },
          "execution_count": 33
        }
      ]
    },
    {
      "cell_type": "code",
      "metadata": {
        "colab": {
          "base_uri": "https://localhost:8080/"
        },
        "id": "nBxm7di5mAnG",
        "outputId": "cbea2c96-5c3d-4da1-efa6-16a5c7b0faf3"
      },
      "source": [
        "L[:, 0].dot(results[1][:, 1])"
      ],
      "execution_count": null,
      "outputs": [
        {
          "output_type": "execute_result",
          "data": {
            "text/plain": [
              "-8.544485034207768e-17"
            ]
          },
          "metadata": {
            "tags": []
          },
          "execution_count": 34
        }
      ]
    },
    {
      "cell_type": "code",
      "metadata": {
        "colab": {
          "base_uri": "https://localhost:8080/"
        },
        "id": "9xCs4Tj6mF-w",
        "outputId": "63fbb3ab-a286-4df1-8b2f-47267bf1e98d"
      },
      "source": [
        "L[:, 1].dot(results[1][:, 1])"
      ],
      "execution_count": null,
      "outputs": [
        {
          "output_type": "execute_result",
          "data": {
            "text/plain": [
              "1.0582502360276315e-16"
            ]
          },
          "metadata": {
            "tags": []
          },
          "execution_count": 35
        }
      ]
    },
    {
      "cell_type": "code",
      "metadata": {
        "id": "4DkZaZKNmHyW"
      },
      "source": [
        "B = np.c_[L, results[1][:, 1]]"
      ],
      "execution_count": null,
      "outputs": []
    },
    {
      "cell_type": "code",
      "metadata": {
        "colab": {
          "base_uri": "https://localhost:8080/"
        },
        "id": "AL_TXOEmmMhb",
        "outputId": "6d4fb096-ed10-4c10-c9ca-8562f254de61"
      },
      "source": [
        "det(B)"
      ],
      "execution_count": null,
      "outputs": [
        {
          "output_type": "execute_result",
          "data": {
            "text/plain": [
              "0.9999999999999998"
            ]
          },
          "metadata": {
            "tags": []
          },
          "execution_count": 37
        }
      ]
    },
    {
      "cell_type": "markdown",
      "metadata": {
        "id": "r19p9FG275Bg"
      },
      "source": [
        "# 4.3 Cholesky Decomposition\n"
      ]
    },
    {
      "cell_type": "markdown",
      "metadata": {
        "id": "yNgS85O58pcL"
      },
      "source": [
        "# 4.4 Eigendecomposition and Diagonalization"
      ]
    },
    {
      "cell_type": "code",
      "metadata": {
        "colab": {
          "base_uri": "https://localhost:8080/"
        },
        "id": "uprjiU5KER6p",
        "outputId": "6b4bed88-7d89-42e1-b2f1-f83c42339dc8"
      },
      "source": [
        "eigen_decomposition([[5/2, -1], [-1, 5/2]])"
      ],
      "execution_count": 47,
      "outputs": [
        {
          "output_type": "execute_result",
          "data": {
            "text/plain": [
              "(array([[ 0.70710678,  0.70710678],\n",
              "        [-0.70710678,  0.70710678]]), array([[3.5, 0. ],\n",
              "        [0. , 1.5]]), array([[ 0.70710678, -0.70710678],\n",
              "        [ 0.70710678,  0.70710678]]))"
            ]
          },
          "metadata": {
            "tags": []
          },
          "execution_count": 47
        }
      ]
    },
    {
      "cell_type": "code",
      "metadata": {
        "colab": {
          "base_uri": "https://localhost:8080/",
          "height": 286
        },
        "id": "ZlEWwQ9dEbRL",
        "outputId": "4ee68161-b9ec-41ca-aa05-e2f6ac3ad300"
      },
      "source": [
        "%matplotlib inline\n",
        "results = eig([[5/2, -1], [-1, 5/2]])\n",
        "orange = '#FF9A13'\n",
        "blue = '#1190FF'\n",
        "\n",
        "plotVectors(results[1], cols=[orange, blue])\n",
        "plt.xlim(-1, 1)\n",
        "plt.ylim(-1, 1)"
      ],
      "execution_count": 56,
      "outputs": [
        {
          "output_type": "execute_result",
          "data": {
            "text/plain": [
              "(-1.0, 1.0)"
            ]
          },
          "metadata": {
            "tags": []
          },
          "execution_count": 56
        },
        {
          "output_type": "display_data",
          "data": {
            "image/png": "[encoded data removed]",
            "text/plain": [
              "<Figure size 432x288 with 1 Axes>"
            ]
          },
          "metadata": {
            "tags": [],
            "needs_background": "light"
          }
        }
      ]
    },
    {
      "cell_type": "markdown",
      "metadata": {
        "id": "UF3GLnXzE__n"
      },
      "source": [
        "# 4.5 Singular Value Decomposition"
      ]
    },
    {
      "cell_type": "markdown",
      "metadata": {
        "id": "LVlldL4MbH9P"
      },
      "source": [
        "## 4.5.1 Geometric Intuition for the SVD"
      ]
    },
    {
      "cell_type": "code",
      "metadata": {
        "id": "K7D-uz5AbMay"
      },
      "source": [
        "import scipy\n",
        "import numpy as np\n",
        "def svd(lA):\n",
        "    arrA = np.array(A)\n",
        "    U, S, VT = np.linalg.svd(arrA)\n",
        "    Sigma = np.zeros(arrA.shape)\n",
        "    k = min(arrA.shape)\n",
        "    Sigma[:k, :k] = np.diag(S)\n",
        "    return U, Sigma, VT"
      ],
      "execution_count": 24,
      "outputs": []
    },
    {
      "cell_type": "code",
      "metadata": {
        "colab": {
          "base_uri": "https://localhost:8080/"
        },
        "id": "0mLofqfItWg2",
        "outputId": "1989c690-7eed-4ab5-fd0f-fdeee0afc77f"
      },
      "source": [
        "A = [[1, 2, 3], [4, 5, 6], [7, 8, 9]]\n",
        "U, Sigma, V = svd(A)\n",
        "U.dot(Sigma.dot(VT))"
      ],
      "execution_count": 26,
      "outputs": [
        {
          "output_type": "execute_result",
          "data": {
            "text/plain": [
              "array([[1., 2., 3.],\n",
              "       [4., 5., 6.],\n",
              "       [7., 8., 9.]])"
            ]
          },
          "metadata": {
            "tags": []
          },
          "execution_count": 26
        }
      ]
    },
    {
      "cell_type": "code",
      "metadata": {
        "colab": {
          "base_uri": "https://localhost:8080/"
        },
        "id": "u7K7du8Et9ss",
        "outputId": "5842fe6f-3c29-4be0-dcf5-71d96b43fedf"
      },
      "source": [
        "P, L, Pinv = eigen_decomposition(A)\n",
        "P.dot(L.dot(Pinv))"
      ],
      "execution_count": 27,
      "outputs": [
        {
          "output_type": "execute_result",
          "data": {
            "text/plain": [
              "array([[1., 2., 3.],\n",
              "       [4., 5., 6.],\n",
              "       [7., 8., 9.]])"
            ]
          },
          "metadata": {
            "tags": []
          },
          "execution_count": 27
        }
      ]
    },
    {
      "cell_type": "code",
      "metadata": {
        "colab": {
          "base_uri": "https://localhost:8080/"
        },
        "id": "VIE1WHlJuhJi",
        "outputId": "e1d0a4ad-da2b-42a3-ceb7-dd2cb9dd9b91"
      },
      "source": [
        "scipy.linalg.eig(A)"
      ],
      "execution_count": 15,
      "outputs": [
        {
          "output_type": "execute_result",
          "data": {
            "text/plain": [
              "(array([ 1.61168440e+01+0.j, -1.11684397e+00+0.j, -1.30367773e-15+0.j]),\n",
              " array([[-0.23197069, -0.78583024,  0.40824829],\n",
              "        [-0.52532209, -0.08675134, -0.81649658],\n",
              "        [-0.8186735 ,  0.61232756,  0.40824829]]))"
            ]
          },
          "metadata": {
            "tags": []
          },
          "execution_count": 15
        }
      ]
    },
    {
      "cell_type": "code",
      "metadata": {
        "colab": {
          "base_uri": "https://localhost:8080/"
        },
        "id": "BJFo4jpTvPYl",
        "outputId": "6b7016b7-4b3b-4650-85c9-fa94d533e073"
      },
      "source": [
        "scipy.linalg.svd(A)"
      ],
      "execution_count": 16,
      "outputs": [
        {
          "output_type": "execute_result",
          "data": {
            "text/plain": [
              "(array([[-0.21483724,  0.88723069,  0.40824829],\n",
              "        [-0.52058739,  0.24964395, -0.81649658],\n",
              "        [-0.82633754, -0.38794278,  0.40824829]]),\n",
              " array([1.68481034e+01, 1.06836951e+00, 4.41842475e-16]),\n",
              " array([[-0.47967118, -0.57236779, -0.66506441],\n",
              "        [-0.77669099, -0.07568647,  0.62531805],\n",
              "        [-0.40824829,  0.81649658, -0.40824829]]))"
            ]
          },
          "metadata": {
            "tags": []
          },
          "execution_count": 16
        }
      ]
    },
    {
      "cell_type": "markdown",
      "metadata": {
        "id": "mNRXM0IuvYqX"
      },
      "source": [
        "# SVD for Pseudoinverse\n"
      ]
    },
    {
      "cell_type": "markdown",
      "metadata": {
        "id": "EgvVRnH-v8u8"
      },
      "source": [
        "The pseudoinverse is denoted as $A^+$, where $A$ is the matrix that is being inverted and + is a superscript."
      ]
    },
    {
      "cell_type": "markdown",
      "metadata": {
        "id": "bHnsqJOiv-dK"
      },
      "source": [
        "$A^+ = VD^+U^T$"
      ]
    },
    {
      "cell_type": "markdown",
      "metadata": {
        "id": "OEFvw2VuwJa_"
      },
      "source": [
        "The $D^+$ can be calculated by creating a diagonal matrix from Sigma, calculating the reciprocal of each non-zero element in Sigma, and taking the transpose if the original matrix was rectangular.\n",
        "\n"
      ]
    },
    {
      "cell_type": "code",
      "metadata": {
        "colab": {
          "base_uri": "https://localhost:8080/"
        },
        "id": "VYHFZqFHw-oK",
        "outputId": "5e1e5680-e3a8-4857-a00e-83dec9145572"
      },
      "source": [
        "# Pseudoinverse\n",
        "# define matrix\n",
        "A = np.array([[0.1, 0.2],\n",
        "              [0.3, 0.4],\n",
        "              [0.5, 0.6],\n",
        "              [0.7,\n",
        "               0.8]])\n",
        "print(A)\n",
        "# calculate pseudoinverse\n",
        "B = np.linalg.pinv(A)\n",
        "print(B)"
      ],
      "execution_count": 17,
      "outputs": [
        {
          "output_type": "stream",
          "text": [
            "[[0.1 0.2]\n",
            " [0.3 0.4]\n",
            " [0.5 0.6]\n",
            " [0.7 0.8]]\n",
            "[[-1.0000000e+01 -5.0000000e+00  8.4040814e-15  5.0000000e+00]\n",
            " [ 8.5000000e+00  4.5000000e+00  5.0000000e-01 -3.5000000e+00]]\n"
          ],
          "name": "stdout"
        }
      ]
    },
    {
      "cell_type": "code",
      "metadata": {
        "id": "zEmi9OfnxPxK"
      },
      "source": [
        "def pinv(lA):\n",
        "    arrA = np.array(A)\n",
        "    U, s, VT = np.linalg.svd(A)\n",
        "    d = 1.0/s\n",
        "    D = np.zeros(A.shape)\n",
        "    k = min(A.shape)\n",
        "    D[:k, :k] = np.diag(d)\n",
        "    return (VT.T).dot((D.T).dot(U.T))"
      ],
      "execution_count": 22,
      "outputs": []
    },
    {
      "cell_type": "code",
      "metadata": {
        "colab": {
          "base_uri": "https://localhost:8080/"
        },
        "id": "pOi9mJfkySWO",
        "outputId": "3640dd5b-a213-4b4e-9657-3b1af0d061ca"
      },
      "source": [
        "pinv(A)"
      ],
      "execution_count": 23,
      "outputs": [
        {
          "output_type": "execute_result",
          "data": {
            "text/plain": [
              "array([[-1.0000000e+01, -5.0000000e+00,  8.4040814e-15,  5.0000000e+00],\n",
              "       [ 8.5000000e+00,  4.5000000e+00,  5.0000000e-01, -3.5000000e+00]])"
            ]
          },
          "metadata": {
            "tags": []
          },
          "execution_count": 23
        }
      ]
    },
    {
      "cell_type": "code",
      "metadata": {
        "colab": {
          "base_uri": "https://localhost:8080/"
        },
        "id": "1QyawxVryW5r",
        "outputId": "21bdc22f-0877-4247-a791-8fac5cd220c3"
      },
      "source": [
        "np.linalg.pinv(A)"
      ],
      "execution_count": 21,
      "outputs": [
        {
          "output_type": "execute_result",
          "data": {
            "text/plain": [
              "array([[-1.0000000e+01, -5.0000000e+00,  8.4040814e-15,  5.0000000e+00],\n",
              "       [ 8.5000000e+00,  4.5000000e+00,  5.0000000e-01, -3.5000000e+00]])"
            ]
          },
          "metadata": {
            "tags": []
          },
          "execution_count": 21
        }
      ]
    },
    {
      "cell_type": "markdown",
      "metadata": {
        "id": "sEYpH-h4yk0I"
      },
      "source": [
        "# SVD for Dimensionality Reduction"
      ]
    },
    {
      "cell_type": "code",
      "metadata": {
        "id": "_wGEYfnd2Icu"
      },
      "source": [
        "def matrix_approximate(lA, n_components):\n",
        "    arrA = np.array(lA)\n",
        "    U, Sigma, VT = svd(arrA)\n",
        "    Sigmak = Sigma[:, :n_components]\n",
        "    VTk = VT[:n_components, :]\n",
        "    print(U.shape, Sigmak.shape, VTk.shape)\n",
        "    return U.dot(Sigmak.dot(VTk))"
      ],
      "execution_count": 63,
      "outputs": []
    },
    {
      "cell_type": "code",
      "metadata": {
        "id": "FyC3p0QK3qeD"
      },
      "source": [
        "lA = np.array([\n",
        "\t[1,2,3,4,5,6,7,8,9,10],\n",
        "\t[11,12,13,14,15,16,17,18,19,20],\n",
        "\t[21,22,23,24,25,26,27,28,29,30]])"
      ],
      "execution_count": 44,
      "outputs": []
    },
    {
      "cell_type": "code",
      "metadata": {
        "colab": {
          "base_uri": "https://localhost:8080/"
        },
        "id": "FzdNQ4ef7ae_",
        "outputId": "3619ed07-e7cf-4002-cbc0-96d2e4e7e027"
      },
      "source": [
        "matrix_approximate(lA, 1)"
      ],
      "execution_count": 64,
      "outputs": [
        {
          "output_type": "stream",
          "text": [
            "(3, 3) (3, 1) (1, 10)\n"
          ],
          "name": "stdout"
        },
        {
          "output_type": "execute_result",
          "data": {
            "text/plain": [
              "array([[ 4.47097996,  4.76535855,  5.05973714,  5.35411573,  5.64849431,\n",
              "         5.9428729 ,  6.23725149,  6.53163008,  6.82600867,  7.12038725],\n",
              "       [12.02453586, 12.81625622, 13.60797659, 14.39969695, 15.19141732,\n",
              "        15.98313768, 16.77485805, 17.56657841, 18.35829878, 19.15001914],\n",
              "       [19.57809176, 20.8671539 , 22.15621604, 23.44527818, 24.73434032,\n",
              "        26.02340247, 27.31246461, 28.60152675, 29.89058889, 31.17965103]])"
            ]
          },
          "metadata": {
            "tags": []
          },
          "execution_count": 64
        }
      ]
    },
    {
      "cell_type": "code",
      "metadata": {
        "colab": {
          "base_uri": "https://localhost:8080/"
        },
        "id": "kyE0HeCi7ZaI",
        "outputId": "f27f537e-7408-4b8e-c488-049e475ae282"
      },
      "source": [
        "approximate(lA, 2)"
      ],
      "execution_count": 62,
      "outputs": [
        {
          "output_type": "stream",
          "text": [
            "(3, 3) (3, 2) (2, 10)\n"
          ],
          "name": "stdout"
        },
        {
          "output_type": "execute_result",
          "data": {
            "text/plain": [
              "array([[ 1.,  2.,  3.,  4.,  5.,  6.,  7.,  8.,  9., 10.],\n",
              "       [11., 12., 13., 14., 15., 16., 17., 18., 19., 20.],\n",
              "       [21., 22., 23., 24., 25., 26., 27., 28., 29., 30.]])"
            ]
          },
          "metadata": {
            "tags": []
          },
          "execution_count": 62
        }
      ]
    },
    {
      "cell_type": "code",
      "metadata": {
        "colab": {
          "base_uri": "https://localhost:8080/"
        },
        "id": "Lj7IMbMm3wGL",
        "outputId": "ca7eaaeb-1a05-45b0-c392-cf330f0404cd"
      },
      "source": [
        "approximate(lA, 3)"
      ],
      "execution_count": 60,
      "outputs": [
        {
          "output_type": "stream",
          "text": [
            "(3, 3) (3, 3) (3, 10)\n"
          ],
          "name": "stdout"
        },
        {
          "output_type": "execute_result",
          "data": {
            "text/plain": [
              "array([[ 1.,  2.,  3.,  4.,  5.,  6.,  7.,  8.,  9., 10.],\n",
              "       [11., 12., 13., 14., 15., 16., 17., 18., 19., 20.],\n",
              "       [21., 22., 23., 24., 25., 26., 27., 28., 29., 30.]])"
            ]
          },
          "metadata": {
            "tags": []
          },
          "execution_count": 60
        }
      ]
    },
    {
      "cell_type": "code",
      "metadata": {
        "id": "PZLyy4rv30lD"
      },
      "source": [
        ""
      ],
      "execution_count": null,
      "outputs": []
    }
  ]
}