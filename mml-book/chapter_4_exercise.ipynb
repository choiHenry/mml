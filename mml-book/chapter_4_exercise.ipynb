{
  "nbformat": 4,
  "nbformat_minor": 0,
  "metadata": {
    "colab": {
      "name": "chapter-4-exercise.ipynb",
      "provenance": []
    },
    "kernelspec": {
      "name": "python3",
      "display_name": "Python 3"
    }
  },
  "cells": [
    {
      "cell_type": "code",
      "metadata": {
        "id": "fwsAdXPn-oJE"
      },
      "source": [
        "import numpy as np\n",
        "from sympy import *\n",
        "from sympy.abc import x, y\n",
        "import matplotlib.pyplot as plt\n",
        "from scipy import linalg\n",
        "\n",
        "def get_m0(n: int):\n",
        "    \"\"\"\n",
        "    get a fundamental matrix in statistics, \"centering matrix\" that is used to transform data to\n",
        "    deviations from their mean\n",
        "    :param n: length of data\n",
        "    :return: $M_0$\n",
        "    \"\"\"\n",
        "    return (-1 / n) * np.ones((n, n)) + np.eye(n)\n",
        "\n",
        "\n",
        "def sum(array):\n",
        "    n = array.shape[0]\n",
        "    i = np.ones(n)\n",
        "\n",
        "    return np.dot(i, array)\n",
        "\n",
        "def mean(array):\n",
        "    import numpy as np\n",
        "    n = array.shape[0]\n",
        "    i = np.ones(n)\n",
        "    return (1 / n) * np.dot(i, array)\n",
        "\n",
        "\n",
        "def mean_deviation(array):\n",
        "    n = array.shape[0]\n",
        "    m0 = get_m0(n)\n",
        "    return np.matmul(m0, array)\n",
        "\n",
        "\n",
        "def sum_of_squares(array):\n",
        "    return np.sum(array ** 2)\n",
        "\n",
        "\n",
        "def sum_of_squared_deviation(array):\n",
        "    return sum_of_squares(mean_deviation(array))\n",
        "\n",
        "\n",
        "def sum_of_squres_matrix(a, b):\n",
        "    z = np.c_[a, b]\n",
        "    return z.T.matmul(get_m0(z.shape[0])).matmul(z)\n",
        "\n",
        "\n",
        "def rref(matrix):\n",
        "    m = Matrix(matrix)\n",
        "    return np.array(m.rref()[0].tolist()).astype(np.float64)\n",
        "\n",
        "def rank(matrix):\n",
        "    return np.linalg.matrix_ranK(matrix)\n",
        "\n",
        "def det(matrix):\n",
        "    return np.linalg.det(matrix)\n",
        "\n",
        "def inv(matrix):\n",
        "    return np.linalg.inv(matrix)\n",
        "\n",
        "def l1_norm(matrix):\n",
        "    return np.abs(np.array(matrix)).sum()\n",
        "\n",
        "def l2_norm(matrix):\n",
        "    return np.sqrt((np.array(matrix) ** 2).sum())\n",
        "\n",
        "def dot(arr1, arr2):\n",
        "    return np.dot(np.array(arr1), np.array(arr2))\n",
        "\n",
        "def arccos(angle):\n",
        "    return np.arccos(angle)\n",
        "\n",
        "def arccos_deg(angle):\n",
        "    return arccos(angle) * 180 / np.pi\n",
        "\n",
        "def orthogonal(arr1, arr2):\n",
        "    return dot(arr1, arr2) == 0\n",
        "\n",
        "def normalize(v):\n",
        "    return v/l2_norm(v)\n",
        "\n",
        "def inner_product(x, y, A):\n",
        "    x_arr = np.array(x)\n",
        "    y_arr = np.array(y)\n",
        "    A_arr = np.array(A)\n",
        "    return np.matmul(np.matmul(x_arr, A_arr), y_arr.T)\n",
        "def proj_matrix(U):\n",
        "    U_arr = np.array(U)\n",
        "\n",
        "    return U_arr.dot(inv(U_arr.T.dot(U_arr))).dot(U_arr.T)\n",
        "\n",
        "def proj(v, U):\n",
        "    v_arr = np.array(v)\n",
        "\n",
        "    return proj_matrix(U).dot(v_arr)\n",
        "\n",
        "def gram_schmidt(B):\n",
        "    B_arr = np.array(B)\n",
        "    for i in range(B_arr.shape[1]):\n",
        "        if i == 0:\n",
        "            U = normalize(B_arr[:, i])\n",
        "            U = U.reshape(U.shape[0], -1)\n",
        "        else:\n",
        "            U_j = normalize(B_arr[:, i] - proj(B_arr[:, i], U))\n",
        "            U = np.c_[U, U_j]\n",
        "    return U\n",
        "\n",
        "def rotate(x, deg):\n",
        "    x_arr = np.array(x)\n",
        "    rad = deg*np.pi/180\n",
        "    return np.matmul(np.array([[np.cos(rad), -np.sin(rad)], [np.sin(rad), np.cos(rad)]]), x_arr)\n",
        "\n",
        "def det_laplace_expansion(A, checked=False):\n",
        "    arr = np.array(A)\n",
        "    if not checked:\n",
        "        if len(arr.shape) == 1:\n",
        "            assert arr.shape[0] == 1, \"Input matrix is not square.\"\n",
        "        else:\n",
        "            assert arr.shape[0] == arr.shape[1], \"Input matrix is not square.\"\n",
        "    check = True\n",
        "    if (arr.shape[0] == 1):\n",
        "        return arr\n",
        "    else:\n",
        "        det = 0\n",
        "        for i in range(arr.shape[0]):\n",
        "            row_index = np.array([x for x in range(arr.shape[0]) if x != i])[:,np.newaxis]\n",
        "            print(arr.shape[0])\n",
        "            print(row_index)\n",
        "            column_index = np.array([x for x in range(arr.shape[1]) if x != 0])\n",
        "            print(column_index)\n",
        "            print(arr[row_index, column_index])\n",
        "            det += ((-1)**i) * det_laplace_expansion(arr[row_index, column_index], checked)\n",
        "        return det\n",
        "\n",
        "def trace(A):\n",
        "    arr = np.array(A)\n",
        "    return np.trace(A)\n",
        "\n",
        "def charpoly(A):\n",
        "    M = Matrix(A)\n",
        "    return M.charpoly(x).as_expr()\n",
        "\n",
        "def eig(A):\n",
        "    M = np.array(A)\n",
        "    return np.linalg.eig(M)\n",
        "\n",
        "def cholesky(lA):\n",
        "    arrA = np.array(lA)\n",
        "    return np.linalg.cholesky(arrA)\n",
        "\n",
        "\n",
        "def plotVectors(vecs, cols, alpha=1):\n",
        "    \"\"\"\n",
        "    Plot set of vectors.\n",
        "\n",
        "    Parameters\n",
        "    ----------\n",
        "    vecs : array-like\n",
        "        Coordinates of the vectors to plot. Each vectors is in an array. For\n",
        "        instance: [[1, 3], [2, 2]] can be used to plot 2 vectors.\n",
        "    cols : array-like\n",
        "        Colors of the vectors. For instance: ['red', 'blue'] will display the\n",
        "        first vector in red and the second in blue.\n",
        "    alpha : float\n",
        "        Opacity of vectors\n",
        "\n",
        "    Returns:\n",
        "\n",
        "    fig : instance of matplotlib.figure.Figure\n",
        "        The figure of the vectors\n",
        "    \"\"\"\n",
        "    plt.figure()\n",
        "    plt.axvline(x=0, color='#A9A9A9', zorder=0)\n",
        "    plt.axhline(y=0, color='#A9A9A9', zorder=0)\n",
        "\n",
        "    for i in range(len(vecs)):\n",
        "        x = np.concatenate([[0,0],vecs[i]])\n",
        "        plt.quiver([x[0]],\n",
        "                   [x[1]],\n",
        "                   [x[2]],\n",
        "                   [x[3]],\n",
        "                   angles='xy', scale_units='xy', scale=1, color=cols[i],\n",
        "                   alpha=alpha)\n",
        "\n",
        "def eigen_decomposition(lA):\n",
        "    arrA = np.array(lA)\n",
        "    results = eig(arrA)\n",
        "    assert det(results[1]) != 0, \"Defective matrix cannot be diagonalized.\"\n",
        "    return (results[1], np.diag(results[0]), inv(results[1]))\n",
        "\n",
        "def svd(lA):\n",
        "    arrA = np.array(lA)\n",
        "    U, S, VT = linalg.svd(arrA)\n",
        "    Sigma = np.zeros(arrA.shape)\n",
        "    k = min(arrA.shape)\n",
        "    Sigma[:k, :k] = np.diag(S)\n",
        "    return U, Sigma, VT\n",
        "\n",
        "def pinv(lA):\n",
        "    arrA = np.array(A)\n",
        "    U, s, VT = np.linalg.svd(A)\n",
        "    d = 1.0/s\n",
        "    D = np.zeros(A.shape)\n",
        "    k = min(A.shape)\n",
        "    D[:k, :k] = np.diag(d)\n",
        "    return (VT.T).dot((D.T).dot(U.T))\n",
        "\n",
        "def matrix_approximate(lA, n_components):\n",
        "    arrA = np.array(lA)\n",
        "    U, Sigma, VT = svd(arrA)\n",
        "    Sigmak = Sigma[:, :n_components]\n",
        "    VTk = VT[:n_components, :]\n",
        "    print(U.shape, Sigmak.shape, VTk.shape)\n",
        "    return U.dot(Sigmak.dot(VTk))\n",
        "\n",
        "class LinearRegression:\n",
        "\n",
        "    def __init__(self):\n",
        "        self._params_ = None\n",
        "        self._intercept_ = None\n",
        "        self._coef_ = None\n",
        "\n",
        "    @property\n",
        "    def params_(self):\n",
        "        return self._params_\n",
        "\n",
        "    @params_.setter\n",
        "    def params_(self, params):\n",
        "        import numpy as np\n",
        "        self._params_ = np.array(params)\n",
        "\n",
        "    @property\n",
        "    def intercept_(self):\n",
        "        return self._intercept_\n",
        "\n",
        "    @intercept_.setter\n",
        "    def intercept_(self, intercept):\n",
        "        import numpy as np\n",
        "        self._intercept_ = np.array(intercept)\n",
        "\n",
        "    @property\n",
        "    def coef_(self):\n",
        "        return self._coef_\n",
        "\n",
        "    @coef_.setter\n",
        "    def coef_(self, coef):\n",
        "        import numpy as np\n",
        "        self._coef_ = np.array(coef)\n",
        "\n",
        "    def fit(self, X, y):\n",
        "        n = X.shape[0]\n",
        "        ones = np.ones(n)\n",
        "        feat = np.c_[X, ones]\n",
        "        inv = np.linalg.inv(np.matmul(feat.T, feat))\n",
        "        self.params_ = np.matmul(np.matmul(inv, feat.T), y)\n",
        "        self.coef_ = self.params_[0]\n",
        "        self.intercept_ = self.params_[1]\n",
        "        print(self.params_)\n",
        "\n",
        "    def predict(self, x):\n",
        "        n = x.shape[0]\n",
        "        feat = np.c_[x, np.ones(n)]\n",
        "        return np.matmul(feat, self.params_)"
      ],
      "execution_count": null,
      "outputs": []
    },
    {
      "cell_type": "markdown",
      "metadata": {
        "id": "H67yiPLt-ciC"
      },
      "source": [
        "# 4.1"
      ]
    },
    {
      "cell_type": "code",
      "metadata": {
        "colab": {
          "base_uri": "https://localhost:8080/"
        },
        "id": "A9h9Mdzd-lWn",
        "outputId": "8f7db65b-7cdf-4f43-ba88-3c6bee2e4a24"
      },
      "source": [
        "A = [[1, 3, 5],\n",
        "     [2, 4, 6],\n",
        "     [0, 2, 4]]\n",
        "det(A)"
      ],
      "execution_count": null,
      "outputs": [
        {
          "output_type": "execute_result",
          "data": {
            "text/plain": [
              "0.0"
            ]
          },
          "metadata": {
            "tags": []
          },
          "execution_count": 2
        }
      ]
    },
    {
      "cell_type": "markdown",
      "metadata": {
        "id": "xF8RyRoj--wy"
      },
      "source": [
        "# 4.2"
      ]
    },
    {
      "cell_type": "code",
      "metadata": {
        "colab": {
          "base_uri": "https://localhost:8080/"
        },
        "id": "WydnIdMe_G-w",
        "outputId": "f6f9e308-7855-429b-c751-5f05a67724a7"
      },
      "source": [
        "A = [[2, 0, 1, 2, 0],\n",
        "     [2, -1, 0, 1, 1,],\n",
        "     [0, 1, 2, 1, 2],\n",
        "     [-2 ,0, 2, -1, 2],\n",
        "     [2, 0, 0, 1, 1]]\n",
        "det(A)"
      ],
      "execution_count": null,
      "outputs": [
        {
          "output_type": "execute_result",
          "data": {
            "text/plain": [
              "6.000000000000003"
            ]
          },
          "metadata": {
            "tags": []
          },
          "execution_count": 4
        }
      ]
    },
    {
      "cell_type": "markdown",
      "metadata": {
        "id": "GG21BRkc_QZ6"
      },
      "source": [
        "# 4.3"
      ]
    },
    {
      "cell_type": "markdown",
      "metadata": {
        "id": "bKYXI6QD_8T1"
      },
      "source": [
        "## a"
      ]
    },
    {
      "cell_type": "code",
      "metadata": {
        "colab": {
          "base_uri": "https://localhost:8080/"
        },
        "id": "3RwFEK7h_Y29",
        "outputId": "516dbd96-678f-47e9-bac3-52b88bc5763e"
      },
      "source": [
        "lA = [[1, 0], [1, 1]]\n",
        "eig(lA)"
      ],
      "execution_count": null,
      "outputs": [
        {
          "output_type": "execute_result",
          "data": {
            "text/plain": [
              "(array([1., 1.]), array([[ 0.00000000e+00,  2.22044605e-16],\n",
              "        [ 1.00000000e+00, -1.00000000e+00]]))"
            ]
          },
          "metadata": {
            "tags": []
          },
          "execution_count": 7
        }
      ]
    },
    {
      "cell_type": "code",
      "metadata": {
        "colab": {
          "base_uri": "https://localhost:8080/"
        },
        "id": "h-xj7eLn_bvr",
        "outputId": "d9b8bded-7900-40cd-d537-4f96dfa8e4a9"
      },
      "source": [
        "charpoly(lA)"
      ],
      "execution_count": null,
      "outputs": [
        {
          "output_type": "execute_result",
          "data": {
            "text/plain": [
              "x**2 - 2*x + 1"
            ]
          },
          "metadata": {
            "tags": []
          },
          "execution_count": 8
        }
      ]
    },
    {
      "cell_type": "markdown",
      "metadata": {
        "id": "CovRia-H_xh3"
      },
      "source": [
        "## b"
      ]
    },
    {
      "cell_type": "code",
      "metadata": {
        "colab": {
          "base_uri": "https://localhost:8080/"
        },
        "id": "rkGbpOpE_-Ko",
        "outputId": "b58c2a64-67d2-4a29-bbd4-6b32836a465a"
      },
      "source": [
        "lB = [[-2, 2],\n",
        "      [2, 1]]\n",
        "eig(lB)"
      ],
      "execution_count": null,
      "outputs": [
        {
          "output_type": "execute_result",
          "data": {
            "text/plain": [
              "(array([-3.,  2.]), array([[-0.89442719, -0.4472136 ],\n",
              "        [ 0.4472136 , -0.89442719]]))"
            ]
          },
          "metadata": {
            "tags": []
          },
          "execution_count": 9
        }
      ]
    },
    {
      "cell_type": "markdown",
      "metadata": {
        "id": "EbAeXHFzADHr"
      },
      "source": [
        "# 4.4"
      ]
    },
    {
      "cell_type": "code",
      "metadata": {
        "colab": {
          "base_uri": "https://localhost:8080/"
        },
        "id": "f1_Oc_8YAKGB",
        "outputId": "b21ae7d4-8449-4326-e4bb-f4fc164d870f"
      },
      "source": [
        "lA = [[0, -1, 1, 1],\n",
        "      [-1, 1, -2, 3],\n",
        "      [2, -1, 0, 0],\n",
        "      [1, -1, 1, 0]]\n",
        "eig(lA)[0]"
      ],
      "execution_count": null,
      "outputs": [
        {
          "output_type": "execute_result",
          "data": {
            "text/plain": [
              "array([ 2.        ,  1.        , -1.00000002, -0.99999998])"
            ]
          },
          "metadata": {
            "tags": []
          },
          "execution_count": 11
        }
      ]
    },
    {
      "cell_type": "code",
      "metadata": {
        "colab": {
          "base_uri": "https://localhost:8080/"
        },
        "id": "xWkIFpBCAU9g",
        "outputId": "de3a5f2b-ecba-4742-f49e-73ae8bd618e7"
      },
      "source": [
        "eig(lA)[1]"
      ],
      "execution_count": null,
      "outputs": [
        {
          "output_type": "execute_result",
          "data": {
            "text/plain": [
              "array([[ 5.77350269e-01,  5.00000000e-01,  1.42763450e-08,\n",
              "         1.42763441e-08],\n",
              "       [ 1.70821396e-16,  5.00000000e-01, -7.07106774e-01,\n",
              "         7.07106788e-01],\n",
              "       [ 5.77350269e-01,  5.00000000e-01, -7.07106788e-01,\n",
              "         7.07106774e-01],\n",
              "       [ 5.77350269e-01,  5.00000000e-01,  2.56395030e-16,\n",
              "        -2.30558502e-16]])"
            ]
          },
          "metadata": {
            "tags": []
          },
          "execution_count": 12
        }
      ]
    },
    {
      "cell_type": "markdown",
      "metadata": {
        "id": "xYD9QldeAbH5"
      },
      "source": [
        "# 4.5"
      ]
    },
    {
      "cell_type": "code",
      "metadata": {
        "id": "0puGYhWEAxdc"
      },
      "source": [
        "lA = [[1, 0], [0, 1]]\n",
        "lB = [[1, 0], [0, 0]]\n",
        "lC = [[1, 1], [0, 1]]\n",
        "lD = [[0, 1], [0, 0]]"
      ],
      "execution_count": null,
      "outputs": []
    },
    {
      "cell_type": "markdown",
      "metadata": {
        "id": "rSH80u9dA9jq"
      },
      "source": [
        "A is diagonalizable and invertible.\n",
        "B is singular but diagonalizable"
      ]
    },
    {
      "cell_type": "code",
      "metadata": {
        "colab": {
          "base_uri": "https://localhost:8080/"
        },
        "id": "XP2P2_JoBhyH",
        "outputId": "fde97327-b0b9-4f1a-8b7a-4fbd8bb83788"
      },
      "source": [
        "eigen_decomposition(lB)"
      ],
      "execution_count": null,
      "outputs": [
        {
          "output_type": "execute_result",
          "data": {
            "text/plain": [
              "(array([[1., 0.],\n",
              "        [0., 1.]]), array([[1., 0.],\n",
              "        [0., 0.]]), array([[1., 0.],\n",
              "        [0., 1.]]))"
            ]
          },
          "metadata": {
            "tags": []
          },
          "execution_count": 14
        }
      ]
    },
    {
      "cell_type": "markdown",
      "metadata": {
        "id": "hskxN6-aBkUt"
      },
      "source": [
        "C is invertible but not diagonalizable."
      ]
    },
    {
      "cell_type": "markdown",
      "metadata": {
        "id": "IkGyRvF_B0QK"
      },
      "source": [
        "D is neither invertible and diagonalizable."
      ]
    },
    {
      "cell_type": "markdown",
      "metadata": {
        "id": "9b2WLVGpB_U6"
      },
      "source": [
        "# 4.6"
      ]
    },
    {
      "cell_type": "markdown",
      "metadata": {
        "id": "8BUFlTf7Fc6r"
      },
      "source": [
        "## a"
      ]
    },
    {
      "cell_type": "markdown",
      "metadata": {
        "id": "VE2Iy4HfFRMt"
      },
      "source": [
        "A is not diagonalizable if $A \\in \\mathbb{R}^{3\\times 3}$"
      ]
    },
    {
      "cell_type": "code",
      "metadata": {
        "colab": {
          "base_uri": "https://localhost:8080/"
        },
        "id": "55LYhe0EB4Ka",
        "outputId": "39270c1e-2c8b-41a2-bfb7-e822feee0719"
      },
      "source": [
        "lA = [[2, 3, 0],\n",
        "     [1, 4, 3],\n",
        "     [0, 0, 1]]\n",
        "charpoly(lA)"
      ],
      "execution_count": null,
      "outputs": [
        {
          "output_type": "execute_result",
          "data": {
            "text/plain": [
              "x**3 - 7*x**2 + 11*x - 5"
            ]
          },
          "metadata": {
            "tags": []
          },
          "execution_count": 16
        }
      ]
    },
    {
      "cell_type": "code",
      "metadata": {
        "id": "MXvfyx7ECKCK"
      },
      "source": [
        "cp = np.polynomial.polynomial.Polynomial([-5, 11, -7, 3])"
      ],
      "execution_count": null,
      "outputs": []
    },
    {
      "cell_type": "code",
      "metadata": {
        "colab": {
          "base_uri": "https://localhost:8080/"
        },
        "id": "nCmx5_8NESNf",
        "outputId": "ca13439e-33d1-41db-f8a1-b47fa88b44d3"
      },
      "source": [
        "print(cp)"
      ],
      "execution_count": null,
      "outputs": [
        {
          "output_type": "stream",
          "text": [
            "poly([-5. 11. -7.  3.])\n"
          ],
          "name": "stdout"
        }
      ]
    },
    {
      "cell_type": "code",
      "metadata": {
        "colab": {
          "base_uri": "https://localhost:8080/"
        },
        "id": "b4Y50ajCCySj",
        "outputId": "a95ad2bf-a930-4731-e661-5574ebf96559"
      },
      "source": [
        "cp.roots()"
      ],
      "execution_count": null,
      "outputs": [
        {
          "output_type": "execute_result",
          "data": {
            "text/plain": [
              "array([0.64713013+0.j        , 0.8431016 -1.36552314j,\n",
              "       0.8431016 +1.36552314j])"
            ]
          },
          "metadata": {
            "tags": []
          },
          "execution_count": 24
        }
      ]
    },
    {
      "cell_type": "markdown",
      "metadata": {
        "id": "zJYVMbgnC7FN"
      },
      "source": [
        "## b"
      ]
    },
    {
      "cell_type": "markdown",
      "metadata": {
        "id": "7xjqo6oeFjB2"
      },
      "source": [
        "A is not diagonalizable"
      ]
    },
    {
      "cell_type": "markdown",
      "metadata": {
        "id": "hFPlQIehFmCK"
      },
      "source": [
        "# 7"
      ]
    },
    {
      "cell_type": "code",
      "metadata": {
        "colab": {
          "base_uri": "https://localhost:8080/"
        },
        "id": "c_ff6DqlFqkA",
        "outputId": "844ffc08-a39e-48b2-983a-2ff704085c02"
      },
      "source": [
        "lA = [[0, 1], [-8, 4]]\n",
        "charpoly(lA)"
      ],
      "execution_count": null,
      "outputs": [
        {
          "output_type": "execute_result",
          "data": {
            "text/plain": [
              "x**2 - 4*x + 8"
            ]
          },
          "metadata": {
            "tags": []
          },
          "execution_count": 26
        }
      ]
    },
    {
      "cell_type": "markdown",
      "metadata": {
        "id": "mDDNaL8RFvcz"
      },
      "source": [
        "$A$ is diagonlizable if $A\\in \\mathbb{C}^{2\\times 2}$"
      ]
    },
    {
      "cell_type": "markdown",
      "metadata": {
        "id": "MOgG3t8rQehU"
      },
      "source": [
        "## b"
      ]
    },
    {
      "cell_type": "code",
      "metadata": {
        "colab": {
          "base_uri": "https://localhost:8080/"
        },
        "id": "6OcMZ5tEQjz8",
        "outputId": "6baca1f8-a271-4cfc-aeee-8656ef5c79fd"
      },
      "source": [
        "lA = [[1, 1, 1],\n",
        "     [1, 1, 1], \n",
        "     [1, 1, 1]]\n",
        "charpoly(lA)"
      ],
      "execution_count": null,
      "outputs": [
        {
          "output_type": "execute_result",
          "data": {
            "text/plain": [
              "x**3 - 3*x**2"
            ]
          },
          "metadata": {
            "tags": []
          },
          "execution_count": 28
        }
      ]
    },
    {
      "cell_type": "code",
      "metadata": {
        "colab": {
          "base_uri": "https://localhost:8080/"
        },
        "id": "Y2zglSoTQpPj",
        "outputId": "cd8ebbd7-084a-40c1-b5a9-7c49e5f8e2c1"
      },
      "source": [
        "eigen_decomposition(A)"
      ],
      "execution_count": null,
      "outputs": [
        {
          "output_type": "execute_result",
          "data": {
            "text/plain": [
              "(array([[ 5.77350269e-01, -6.51147040e-17,  6.09781659e-01],\n",
              "        [ 5.77350269e-01, -7.07106781e-01, -7.75129861e-01],\n",
              "        [ 5.77350269e-01,  7.07106781e-01,  1.65348202e-01]]),\n",
              " array([[ 3.00000000e+00,  0.00000000e+00,  0.00000000e+00],\n",
              "        [ 0.00000000e+00,  6.16297582e-33,  0.00000000e+00],\n",
              "        [ 0.00000000e+00,  0.00000000e+00, -7.50963641e-17]]),\n",
              " array([[ 0.57735027,  0.57735027,  0.57735027],\n",
              "        [-0.72705632, -0.34357862,  1.07063494],\n",
              "        [ 1.0932875 , -0.54664375, -0.54664375]]))"
            ]
          },
          "metadata": {
            "tags": []
          },
          "execution_count": 29
        }
      ]
    },
    {
      "cell_type": "markdown",
      "metadata": {
        "id": "utcJCAbLQ3kb"
      },
      "source": [
        "## C"
      ]
    },
    {
      "cell_type": "code",
      "metadata": {
        "colab": {
          "base_uri": "https://localhost:8080/"
        },
        "id": "qnF1i-g9Q7kY",
        "outputId": "cf07fbee-d5f9-4bd8-f60f-a7db0bf050bf"
      },
      "source": [
        "lA = [[5, 4, 2, 1],\n",
        "      [0, 1, -1, -1], \n",
        "      [-1, -1, 3, 0], \n",
        "      [1, 1, -1, 2]]\n",
        "charpoly(lA)"
      ],
      "execution_count": null,
      "outputs": [
        {
          "output_type": "execute_result",
          "data": {
            "text/plain": [
              "x**4 - 11*x**3 + 42*x**2 - 64*x + 32"
            ]
          },
          "metadata": {
            "tags": []
          },
          "execution_count": 31
        }
      ]
    },
    {
      "cell_type": "code",
      "metadata": {
        "colab": {
          "base_uri": "https://localhost:8080/"
        },
        "id": "MnnZbGWhRXlE",
        "outputId": "10bc2c09-ebed-43fd-cfe5-5c24070a78be"
      },
      "source": [
        "cp = np.polynomial.polynomial.Polynomial([32, -64, 42, -11, 1])\n",
        "cp.roots()"
      ],
      "execution_count": null,
      "outputs": [
        {
          "output_type": "execute_result",
          "data": {
            "text/plain": [
              "array([1.+0.00000000e+00j, 2.+0.00000000e+00j, 4.-4.77427141e-08j,\n",
              "       4.+4.77427141e-08j])"
            ]
          },
          "metadata": {
            "tags": []
          },
          "execution_count": 32
        }
      ]
    },
    {
      "cell_type": "markdown",
      "metadata": {
        "id": "FrRh1D19R0HX"
      },
      "source": [
        "$A$ is not diagonlizable in $\\mathbb{R}^{n\\times n}%"
      ]
    },
    {
      "cell_type": "markdown",
      "metadata": {
        "id": "W_ah-gtcR-ry"
      },
      "source": [
        "## d"
      ]
    },
    {
      "cell_type": "code",
      "metadata": {
        "colab": {
          "base_uri": "https://localhost:8080/"
        },
        "id": "3lv63uQwSBeL",
        "outputId": "8e7d5df1-acbf-436e-da72-4ea22141eaae"
      },
      "source": [
        "lA = [[5, -6, -6],\n",
        "      [-1, 4, 2],\n",
        "      [3, -6, -4]]\n",
        "charpoly(lA)"
      ],
      "execution_count": null,
      "outputs": [
        {
          "output_type": "execute_result",
          "data": {
            "text/plain": [
              "x**3 - 5*x**2 + 8*x - 4"
            ]
          },
          "metadata": {
            "tags": []
          },
          "execution_count": 33
        }
      ]
    },
    {
      "cell_type": "code",
      "metadata": {
        "colab": {
          "base_uri": "https://localhost:8080/"
        },
        "id": "Y_TfKS-8SSRR",
        "outputId": "171b03c3-044d-4613-e275-3d1e91c4e91a"
      },
      "source": [
        "cp = np.polynomial.polynomial.Polynomial([-4, 8, -5, 1])\n",
        "cp.roots()"
      ],
      "execution_count": null,
      "outputs": [
        {
          "output_type": "execute_result",
          "data": {
            "text/plain": [
              "array([1.        , 1.99999996, 2.00000004])"
            ]
          },
          "metadata": {
            "tags": []
          },
          "execution_count": 34
        }
      ]
    },
    {
      "cell_type": "code",
      "metadata": {
        "colab": {
          "base_uri": "https://localhost:8080/"
        },
        "id": "wP_kvymWSXs-",
        "outputId": "110ee77a-3eb4-4703-b71d-0529123d93fb"
      },
      "source": [
        "eig(lA)[0]"
      ],
      "execution_count": null,
      "outputs": [
        {
          "output_type": "execute_result",
          "data": {
            "text/plain": [
              "array([1., 2., 2.])"
            ]
          },
          "metadata": {
            "tags": []
          },
          "execution_count": 37
        }
      ]
    },
    {
      "cell_type": "code",
      "metadata": {
        "colab": {
          "base_uri": "https://localhost:8080/"
        },
        "id": "wd7mBNVcSbNU",
        "outputId": "04b3e928-7e8a-4818-8087-899c1fd7dd93"
      },
      "source": [
        "eig(lA)[1]"
      ],
      "execution_count": null,
      "outputs": [
        {
          "output_type": "execute_result",
          "data": {
            "text/plain": [
              "array([[ 0.6882472 , -0.62406387,  0.9427575 ],\n",
              "       [-0.22941573,  0.37401343,  0.24308314],\n",
              "       [ 0.6882472 , -0.68604537,  0.22829561]])"
            ]
          },
          "metadata": {
            "tags": []
          },
          "execution_count": 38
        }
      ]
    },
    {
      "cell_type": "code",
      "metadata": {
        "colab": {
          "base_uri": "https://localhost:8080/"
        },
        "id": "U28e3Z0_SfQD",
        "outputId": "8b7f2335-b8f3-4311-ad2e-65b37f9a2fc5"
      },
      "source": [
        "eigen_decomposition(lA)"
      ],
      "execution_count": null,
      "outputs": [
        {
          "output_type": "execute_result",
          "data": {
            "text/plain": [
              "(array([[ 0.6882472 , -0.62406387,  0.9427575 ],\n",
              "        [-0.22941573,  0.37401343,  0.24308314],\n",
              "        [ 0.6882472 , -0.68604537,  0.22829561]]), array([[1., 0., 0.],\n",
              "        [0., 2., 0.],\n",
              "        [0., 0., 2.]]), array([[-4.35889894,  8.71779789,  8.71779789],\n",
              "        [-3.79749605,  8.50038207,  6.63095674],\n",
              "        [ 1.72909781, -0.73743109, -1.97490818]]))"
            ]
          },
          "metadata": {
            "tags": []
          },
          "execution_count": 39
        }
      ]
    },
    {
      "cell_type": "markdown",
      "metadata": {
        "id": "UiuCtrhOSjcW"
      },
      "source": [
        "# 4.9"
      ]
    },
    {
      "cell_type": "code",
      "metadata": {
        "colab": {
          "base_uri": "https://localhost:8080/"
        },
        "id": "TUxzz9FbSxew",
        "outputId": "39edfff2-f5bb-46bd-cd64-b5c49d5e6961"
      },
      "source": [
        "lA = [[3, 2, 2], [2, 3, -2]]\n",
        "svd(lA)"
      ],
      "execution_count": null,
      "outputs": [
        {
          "output_type": "execute_result",
          "data": {
            "text/plain": [
              "(array([[-0.70710678, -0.70710678],\n",
              "        [-0.70710678,  0.70710678]]), array([[5., 0., 0.],\n",
              "        [0., 3., 0.]]), array([[-7.07106781e-01, -7.07106781e-01, -6.47932334e-17],\n",
              "        [-2.35702260e-01,  2.35702260e-01, -9.42809042e-01],\n",
              "        [-6.66666667e-01,  6.66666667e-01,  3.33333333e-01]]))"
            ]
          },
          "metadata": {
            "tags": []
          },
          "execution_count": 44
        }
      ]
    },
    {
      "cell_type": "markdown",
      "metadata": {
        "id": "t1P-jx3sTPwA"
      },
      "source": [
        "# 4.9"
      ]
    },
    {
      "cell_type": "code",
      "metadata": {
        "colab": {
          "base_uri": "https://localhost:8080/"
        },
        "id": "aRfFQ2nSUXGv",
        "outputId": "dd10ae6f-13a7-4a8a-dff3-5620572b18cd"
      },
      "source": [
        "lA = [[2, 2],\n",
        "      [-1, 1]]\n",
        "svd(lA)"
      ],
      "execution_count": null,
      "outputs": [
        {
          "output_type": "execute_result",
          "data": {
            "text/plain": [
              "(array([[-1.00000000e+00,  1.11022302e-16],\n",
              "        [ 1.11022302e-16,  1.00000000e+00]]), array([[2.82842712, 0.        ],\n",
              "        [0.        , 1.41421356]]), array([[-0.70710678, -0.70710678],\n",
              "        [-0.70710678,  0.70710678]]))"
            ]
          },
          "metadata": {
            "tags": []
          },
          "execution_count": 45
        }
      ]
    },
    {
      "cell_type": "markdown",
      "metadata": {
        "id": "gYsVxXunUai4"
      },
      "source": [
        "# 4.10"
      ]
    },
    {
      "cell_type": "code",
      "metadata": {
        "colab": {
          "base_uri": "https://localhost:8080/"
        },
        "id": "7mbW17vWUf8c",
        "outputId": "e2a9cfa8-664f-4395-f564-92649242c83c"
      },
      "source": [
        "lA = [[3, 2, 2],\n",
        "      [2, 3, -2]]\n",
        "matrix_approximate(lA, 1)"
      ],
      "execution_count": null,
      "outputs": [
        {
          "output_type": "stream",
          "text": [
            "(2, 2) (2, 1) (1, 3)\n"
          ],
          "name": "stdout"
        },
        {
          "output_type": "execute_result",
          "data": {
            "text/plain": [
              "array([[2.50000000e+00, 2.50000000e+00, 2.29078674e-16],\n",
              "       [2.50000000e+00, 2.50000000e+00, 2.29078674e-16]])"
            ]
          },
          "metadata": {
            "tags": []
          },
          "execution_count": 46
        }
      ]
    },
    {
      "cell_type": "markdown",
      "metadata": {
        "id": "X2dajaGEUqdx"
      },
      "source": [
        "# 4.11"
      ]
    },
    {
      "cell_type": "markdown",
      "metadata": {
        "id": "BiSNX4QWVcaI"
      },
      "source": [
        "$A^TAx = \\lambda x$ \\\\\n",
        "$AA^T(Ax) = \\lambda (Ax)$"
      ]
    },
    {
      "cell_type": "markdown",
      "metadata": {
        "id": "oWGti4jVV190"
      },
      "source": [
        ""
      ]
    }
  ]
}